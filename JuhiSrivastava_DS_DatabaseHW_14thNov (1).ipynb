{
 "cells": [
  {
   "cell_type": "code",
   "execution_count": 2,
   "metadata": {
    "collapsed": false
   },
   "outputs": [
    {
     "name": "stdout",
     "output_type": "stream",
     "text": [
      "Collecting plotly\n",
      "  Downloading plotly-1.12.9.tar.gz (740kB)\n",
      "\u001b[K    100% |████████████████████████████████| 747kB 784kB/s \n",
      "\u001b[?25hRequirement already satisfied (use --upgrade to upgrade): requests in /anaconda/lib/python3.5/site-packages (from plotly)\n",
      "Requirement already satisfied (use --upgrade to upgrade): six in /anaconda/lib/python3.5/site-packages (from plotly)\n",
      "Requirement already satisfied (use --upgrade to upgrade): pytz in /anaconda/lib/python3.5/site-packages (from plotly)\n",
      "Building wheels for collected packages: plotly\n",
      "  Running setup.py bdist_wheel for plotly ... \u001b[?25l-\b \b\\\b \b|\b \bdone\n",
      "\u001b[?25h  Stored in directory: /Users/juhi/Library/Caches/pip/wheels/4b/eb/b9/12c68c4beb81c35532cabab650a8948487e90ed6c9e66e15b0\n",
      "Successfully built plotly\n",
      "Installing collected packages: plotly\n",
      "Successfully installed plotly-1.12.9\n",
      "\u001b[33mYou are using pip version 8.1.2, however version 9.0.1 is available.\n",
      "You should consider upgrading via the 'pip install --upgrade pip' command.\u001b[0m\n"
     ]
    }
   ],
   "source": [
    "!pip install plotly"
   ]
  },
  {
   "cell_type": "markdown",
   "metadata": {},
   "source": [
    "3-1-1 is a special telephone number supported in many communities in Canada and the United States. The number provides access to non-emergency municipal services. The below data shows most common complaints logged from 2010 till present along with their frequency (number of complaints)\n"
   ]
  },
  {
   "cell_type": "code",
   "execution_count": 3,
   "metadata": {
    "collapsed": false,
    "scrolled": true
   },
   "outputs": [
    {
     "data": {
      "text/html": [
       "<iframe id=\"igraph\" scrolling=\"no\" style=\"border:none;\" seamless=\"seamless\" src=\"https://plot.ly/~chris/7365.embed\" height=\"525\" width=\"100%\"></iframe>"
      ],
      "text/plain": [
       "<plotly.tools.PlotlyDisplay object>"
      ]
     },
     "execution_count": 3,
     "metadata": {},
     "output_type": "execute_result"
    }
   ],
   "source": [
    "import plotly.tools as tls\n",
    "tls.embed('https://plot.ly/~chris/7365')"
   ]
  },
  {
   "cell_type": "code",
   "execution_count": 4,
   "metadata": {
    "collapsed": true
   },
   "outputs": [],
   "source": [
    "# establishing database connection and importing plotting libraries\n",
    "import pandas as pd\n",
    "from sqlalchemy import create_engine # database connection\n",
    "import datetime as dt\n",
    "from IPython.display import display\n",
    "\n",
    "import plotly.plotly as py # interactive graphing\n",
    "from plotly.graph_objs import Bar, Scatter, Marker, Layout "
   ]
  },
  {
   "cell_type": "code",
   "execution_count": 5,
   "metadata": {
    "collapsed": false
   },
   "outputs": [
    {
     "data": {
      "text/html": [
       "<div>\n",
       "<table border=\"1\" class=\"dataframe\">\n",
       "  <thead>\n",
       "    <tr style=\"text-align: right;\">\n",
       "      <th></th>\n",
       "      <th>Unique Key</th>\n",
       "      <th>Created Date</th>\n",
       "      <th>Closed Date</th>\n",
       "      <th>Agency</th>\n",
       "      <th>Agency Name</th>\n",
       "      <th>Complaint Type</th>\n",
       "      <th>Descriptor</th>\n",
       "      <th>Location Type</th>\n",
       "      <th>Incident Zip</th>\n",
       "      <th>Incident Address</th>\n",
       "      <th>...</th>\n",
       "      <th>Bridge Highway Name</th>\n",
       "      <th>Bridge Highway Direction</th>\n",
       "      <th>Road Ramp</th>\n",
       "      <th>Bridge Highway Segment</th>\n",
       "      <th>Garage Lot Name</th>\n",
       "      <th>Ferry Direction</th>\n",
       "      <th>Ferry Terminal Name</th>\n",
       "      <th>Latitude</th>\n",
       "      <th>Longitude</th>\n",
       "      <th>Location</th>\n",
       "    </tr>\n",
       "  </thead>\n",
       "  <tbody>\n",
       "    <tr>\n",
       "      <th>0</th>\n",
       "      <td>34130633</td>\n",
       "      <td>08/20/2016 11:27:00 AM</td>\n",
       "      <td>09/01/2016 12:00:00 PM</td>\n",
       "      <td>DSNY</td>\n",
       "      <td>P - Commercial Recycling Citywide</td>\n",
       "      <td>Recycling Enforcement</td>\n",
       "      <td>ER5 Comm. Recyc. (Bldg Mgmt)</td>\n",
       "      <td>Sidewalk</td>\n",
       "      <td>10013</td>\n",
       "      <td>459 BROADWAY</td>\n",
       "      <td>...</td>\n",
       "      <td>NaN</td>\n",
       "      <td>NaN</td>\n",
       "      <td>NaN</td>\n",
       "      <td>NaN</td>\n",
       "      <td>NaN</td>\n",
       "      <td>NaN</td>\n",
       "      <td>NaN</td>\n",
       "      <td>40.720664</td>\n",
       "      <td>-74.000823</td>\n",
       "      <td>(40.72066442411745, -74.00082252601034)</td>\n",
       "    </tr>\n",
       "    <tr>\n",
       "      <th>1</th>\n",
       "      <td>25974619</td>\n",
       "      <td>07/20/2013 06:12:00 AM</td>\n",
       "      <td>07/20/2013 06:12:00 AM</td>\n",
       "      <td>DEP</td>\n",
       "      <td>Department of Environmental Protection</td>\n",
       "      <td>Water System</td>\n",
       "      <td>Fire Hydrant Emergency (FHE)</td>\n",
       "      <td>NaN</td>\n",
       "      <td>10452</td>\n",
       "      <td>NaN</td>\n",
       "      <td>...</td>\n",
       "      <td>NaN</td>\n",
       "      <td>NaN</td>\n",
       "      <td>NaN</td>\n",
       "      <td>NaN</td>\n",
       "      <td>NaN</td>\n",
       "      <td>NaN</td>\n",
       "      <td>NaN</td>\n",
       "      <td>40.836306</td>\n",
       "      <td>-73.925168</td>\n",
       "      <td>(40.83630605606669, -73.92516818961418)</td>\n",
       "    </tr>\n",
       "  </tbody>\n",
       "</table>\n",
       "<p>2 rows × 53 columns</p>\n",
       "</div>"
      ],
      "text/plain": [
       "   Unique Key            Created Date             Closed Date Agency  \\\n",
       "0    34130633  08/20/2016 11:27:00 AM  09/01/2016 12:00:00 PM   DSNY   \n",
       "1    25974619  07/20/2013 06:12:00 AM  07/20/2013 06:12:00 AM    DEP   \n",
       "\n",
       "                              Agency Name         Complaint Type  \\\n",
       "0       P - Commercial Recycling Citywide  Recycling Enforcement   \n",
       "1  Department of Environmental Protection           Water System   \n",
       "\n",
       "                     Descriptor Location Type  Incident Zip Incident Address  \\\n",
       "0  ER5 Comm. Recyc. (Bldg Mgmt)      Sidewalk         10013     459 BROADWAY   \n",
       "1  Fire Hydrant Emergency (FHE)           NaN         10452              NaN   \n",
       "\n",
       "                    ...                    Bridge Highway Name  \\\n",
       "0                   ...                                    NaN   \n",
       "1                   ...                                    NaN   \n",
       "\n",
       "  Bridge Highway Direction Road Ramp Bridge Highway Segment Garage Lot Name  \\\n",
       "0                      NaN       NaN                    NaN             NaN   \n",
       "1                      NaN       NaN                    NaN             NaN   \n",
       "\n",
       "  Ferry Direction Ferry Terminal Name   Latitude  Longitude  \\\n",
       "0             NaN                 NaN  40.720664 -74.000823   \n",
       "1             NaN                 NaN  40.836306 -73.925168   \n",
       "\n",
       "                                  Location  \n",
       "0  (40.72066442411745, -74.00082252601034)  \n",
       "1  (40.83630605606669, -73.92516818961418)  \n",
       "\n",
       "[2 rows x 53 columns]"
      ]
     },
     "metadata": {},
     "output_type": "display_data"
    }
   ],
   "source": [
    "# displaying head of 311 service requests data\n",
    "display(pd.read_csv('/Users/juhi/Downloads/311_Service_Requests_from_2010_to_Present.csv.crdownload', nrows=2).head())\n"
   ]
  },
  {
   "cell_type": "code",
   "execution_count": 7,
   "metadata": {
    "collapsed": false
   },
   "outputs": [
    {
     "data": {
      "text/html": [
       "<div>\n",
       "<table border=\"1\" class=\"dataframe\">\n",
       "  <thead>\n",
       "    <tr style=\"text-align: right;\">\n",
       "      <th></th>\n",
       "      <th>Unique Key</th>\n",
       "      <th>Created Date</th>\n",
       "      <th>Closed Date</th>\n",
       "      <th>Agency</th>\n",
       "      <th>Agency Name</th>\n",
       "      <th>Complaint Type</th>\n",
       "      <th>Descriptor</th>\n",
       "      <th>Location Type</th>\n",
       "      <th>Incident Zip</th>\n",
       "      <th>Incident Address</th>\n",
       "      <th>...</th>\n",
       "      <th>Bridge Highway Name</th>\n",
       "      <th>Bridge Highway Direction</th>\n",
       "      <th>Road Ramp</th>\n",
       "      <th>Bridge Highway Segment</th>\n",
       "      <th>Garage Lot Name</th>\n",
       "      <th>Ferry Direction</th>\n",
       "      <th>Ferry Terminal Name</th>\n",
       "      <th>Latitude</th>\n",
       "      <th>Longitude</th>\n",
       "      <th>Location</th>\n",
       "    </tr>\n",
       "  </thead>\n",
       "  <tbody>\n",
       "    <tr>\n",
       "      <th>0</th>\n",
       "      <td>34130633</td>\n",
       "      <td>08/20/2016 11:27:00 AM</td>\n",
       "      <td>09/01/2016 12:00:00 PM</td>\n",
       "      <td>DSNY</td>\n",
       "      <td>P - Commercial Recycling Citywide</td>\n",
       "      <td>Recycling Enforcement</td>\n",
       "      <td>ER5 Comm. Recyc. (Bldg Mgmt)</td>\n",
       "      <td>Sidewalk</td>\n",
       "      <td>10013</td>\n",
       "      <td>459 BROADWAY</td>\n",
       "      <td>...</td>\n",
       "      <td>NaN</td>\n",
       "      <td>NaN</td>\n",
       "      <td>NaN</td>\n",
       "      <td>NaN</td>\n",
       "      <td>NaN</td>\n",
       "      <td>NaN</td>\n",
       "      <td>NaN</td>\n",
       "      <td>40.720664</td>\n",
       "      <td>-74.000823</td>\n",
       "      <td>(40.72066442411745, -74.00082252601034)</td>\n",
       "    </tr>\n",
       "    <tr>\n",
       "      <th>1</th>\n",
       "      <td>25974619</td>\n",
       "      <td>07/20/2013 06:12:00 AM</td>\n",
       "      <td>07/20/2013 06:12:00 AM</td>\n",
       "      <td>DEP</td>\n",
       "      <td>Department of Environmental Protection</td>\n",
       "      <td>Water System</td>\n",
       "      <td>Fire Hydrant Emergency (FHE)</td>\n",
       "      <td>NaN</td>\n",
       "      <td>10452</td>\n",
       "      <td>NaN</td>\n",
       "      <td>...</td>\n",
       "      <td>NaN</td>\n",
       "      <td>NaN</td>\n",
       "      <td>NaN</td>\n",
       "      <td>NaN</td>\n",
       "      <td>NaN</td>\n",
       "      <td>NaN</td>\n",
       "      <td>NaN</td>\n",
       "      <td>40.836306</td>\n",
       "      <td>-73.925168</td>\n",
       "      <td>(40.83630605606669, -73.92516818961418)</td>\n",
       "    </tr>\n",
       "  </tbody>\n",
       "</table>\n",
       "<p>2 rows × 53 columns</p>\n",
       "</div>"
      ],
      "text/plain": [
       "   Unique Key            Created Date             Closed Date Agency  \\\n",
       "0    34130633  08/20/2016 11:27:00 AM  09/01/2016 12:00:00 PM   DSNY   \n",
       "1    25974619  07/20/2013 06:12:00 AM  07/20/2013 06:12:00 AM    DEP   \n",
       "\n",
       "                              Agency Name         Complaint Type  \\\n",
       "0       P - Commercial Recycling Citywide  Recycling Enforcement   \n",
       "1  Department of Environmental Protection           Water System   \n",
       "\n",
       "                     Descriptor Location Type  Incident Zip Incident Address  \\\n",
       "0  ER5 Comm. Recyc. (Bldg Mgmt)      Sidewalk         10013     459 BROADWAY   \n",
       "1  Fire Hydrant Emergency (FHE)           NaN         10452              NaN   \n",
       "\n",
       "                    ...                    Bridge Highway Name  \\\n",
       "0                   ...                                    NaN   \n",
       "1                   ...                                    NaN   \n",
       "\n",
       "  Bridge Highway Direction Road Ramp Bridge Highway Segment Garage Lot Name  \\\n",
       "0                      NaN       NaN                    NaN             NaN   \n",
       "1                      NaN       NaN                    NaN             NaN   \n",
       "\n",
       "  Ferry Direction Ferry Terminal Name   Latitude  Longitude  \\\n",
       "0             NaN                 NaN  40.720664 -74.000823   \n",
       "1             NaN                 NaN  40.836306 -73.925168   \n",
       "\n",
       "                                  Location  \n",
       "0  (40.72066442411745, -74.00082252601034)  \n",
       "1  (40.83630605606669, -73.92516818961418)  \n",
       "\n",
       "[2 rows x 53 columns]"
      ]
     },
     "metadata": {},
     "output_type": "display_data"
    }
   ],
   "source": [
    "# displaying tail of 311 service requests data\n",
    "display(pd.read_csv('/Users/juhi/Downloads/311_Service_Requests_from_2010_to_Present.csv.crdownload', nrows=2).tail())"
   ]
  },
  {
   "cell_type": "code",
   "execution_count": 9,
   "metadata": {
    "collapsed": false
   },
   "outputs": [],
   "source": [
    "disk_engine = create_engine('sqlite:///311_8M.db') # Initializes database with filename 311_8M.db in current directory\n"
   ]
  },
  {
   "cell_type": "markdown",
   "metadata": {},
   "source": [
    "The data has 53 columns so we will clean the data and use only interesting and informative\n",
    "columns for analysis purpose. First we will remove spaces from the columns and reduce the number of columns. For the analysis we will be using 'Agency', 'CreatedDate', 'ComplaintType', 'Descriptor', 'ClosedDate', 'TimeToCompletion' and 'City'."
   ]
  },
  {
   "cell_type": "code",
   "execution_count": 11,
   "metadata": {
    "collapsed": false
   },
   "outputs": [
    {
     "name": "stderr",
     "output_type": "stream",
     "text": [
      "//anaconda/lib/python3.5/site-packages/IPython/core/interactiveshell.py:2717: DtypeWarning:\n",
      "\n",
      "Columns (8,17,39,41) have mixed types. Specify dtype option on import or set low_memory=False.\n",
      "\n"
     ]
    },
    {
     "name": "stdout",
     "output_type": "stream",
     "text": [
      "14 seconds: completed 20000 rows\n"
     ]
    },
    {
     "name": "stderr",
     "output_type": "stream",
     "text": [
      "//anaconda/lib/python3.5/site-packages/IPython/core/interactiveshell.py:2717: DtypeWarning:\n",
      "\n",
      "Columns (41) have mixed types. Specify dtype option on import or set low_memory=False.\n",
      "\n"
     ]
    },
    {
     "name": "stdout",
     "output_type": "stream",
     "text": [
      "31 seconds: completed 40000 rows\n"
     ]
    },
    {
     "name": "stderr",
     "output_type": "stream",
     "text": [
      "//anaconda/lib/python3.5/site-packages/IPython/core/interactiveshell.py:2717: DtypeWarning:\n",
      "\n",
      "Columns (8,17,40,41,47) have mixed types. Specify dtype option on import or set low_memory=False.\n",
      "\n"
     ]
    },
    {
     "name": "stdout",
     "output_type": "stream",
     "text": [
      "48 seconds: completed 60000 rows\n"
     ]
    },
    {
     "name": "stderr",
     "output_type": "stream",
     "text": [
      "//anaconda/lib/python3.5/site-packages/IPython/core/interactiveshell.py:2717: DtypeWarning:\n",
      "\n",
      "Columns (17,47) have mixed types. Specify dtype option on import or set low_memory=False.\n",
      "\n"
     ]
    },
    {
     "name": "stdout",
     "output_type": "stream",
     "text": [
      "64 seconds: completed 80000 rows\n"
     ]
    },
    {
     "name": "stderr",
     "output_type": "stream",
     "text": [
      "//anaconda/lib/python3.5/site-packages/IPython/core/interactiveshell.py:2717: DtypeWarning:\n",
      "\n",
      "Columns (8,39,41,47) have mixed types. Specify dtype option on import or set low_memory=False.\n",
      "\n"
     ]
    },
    {
     "name": "stdout",
     "output_type": "stream",
     "text": [
      "80 seconds: completed 100000 rows\n"
     ]
    },
    {
     "name": "stderr",
     "output_type": "stream",
     "text": [
      "//anaconda/lib/python3.5/site-packages/IPython/core/interactiveshell.py:2717: DtypeWarning:\n",
      "\n",
      "Columns (39,40,41) have mixed types. Specify dtype option on import or set low_memory=False.\n",
      "\n"
     ]
    },
    {
     "name": "stdout",
     "output_type": "stream",
     "text": [
      "97 seconds: completed 120000 rows\n"
     ]
    },
    {
     "name": "stderr",
     "output_type": "stream",
     "text": [
      "//anaconda/lib/python3.5/site-packages/IPython/core/interactiveshell.py:2717: DtypeWarning:\n",
      "\n",
      "Columns (8) have mixed types. Specify dtype option on import or set low_memory=False.\n",
      "\n"
     ]
    },
    {
     "name": "stdout",
     "output_type": "stream",
     "text": [
      "114 seconds: completed 140000 rows\n"
     ]
    },
    {
     "name": "stderr",
     "output_type": "stream",
     "text": [
      "//anaconda/lib/python3.5/site-packages/IPython/core/interactiveshell.py:2717: DtypeWarning:\n",
      "\n",
      "Columns (39) have mixed types. Specify dtype option on import or set low_memory=False.\n",
      "\n"
     ]
    },
    {
     "name": "stdout",
     "output_type": "stream",
     "text": [
      "130 seconds: completed 160000 rows\n"
     ]
    },
    {
     "name": "stderr",
     "output_type": "stream",
     "text": [
      "//anaconda/lib/python3.5/site-packages/IPython/core/interactiveshell.py:2717: DtypeWarning:\n",
      "\n",
      "Columns (39,40,47) have mixed types. Specify dtype option on import or set low_memory=False.\n",
      "\n"
     ]
    },
    {
     "name": "stdout",
     "output_type": "stream",
     "text": [
      "147 seconds: completed 180000 rows\n",
      "164 seconds: completed 200000 rows\n"
     ]
    },
    {
     "name": "stderr",
     "output_type": "stream",
     "text": [
      "//anaconda/lib/python3.5/site-packages/IPython/core/interactiveshell.py:2717: DtypeWarning:\n",
      "\n",
      "Columns (8,39) have mixed types. Specify dtype option on import or set low_memory=False.\n",
      "\n"
     ]
    },
    {
     "name": "stdout",
     "output_type": "stream",
     "text": [
      "180 seconds: completed 220000 rows\n"
     ]
    },
    {
     "name": "stderr",
     "output_type": "stream",
     "text": [
      "//anaconda/lib/python3.5/site-packages/IPython/core/interactiveshell.py:2717: DtypeWarning:\n",
      "\n",
      "Columns (8,17) have mixed types. Specify dtype option on import or set low_memory=False.\n",
      "\n"
     ]
    },
    {
     "name": "stdout",
     "output_type": "stream",
     "text": [
      "197 seconds: completed 240000 rows\n"
     ]
    },
    {
     "name": "stderr",
     "output_type": "stream",
     "text": [
      "//anaconda/lib/python3.5/site-packages/IPython/core/interactiveshell.py:2717: DtypeWarning:\n",
      "\n",
      "Columns (8,39,40,41,48) have mixed types. Specify dtype option on import or set low_memory=False.\n",
      "\n"
     ]
    },
    {
     "name": "stdout",
     "output_type": "stream",
     "text": [
      "213 seconds: completed 260000 rows\n"
     ]
    },
    {
     "name": "stderr",
     "output_type": "stream",
     "text": [
      "//anaconda/lib/python3.5/site-packages/IPython/core/interactiveshell.py:2717: DtypeWarning:\n",
      "\n",
      "Columns (39,40,41,47,48,49) have mixed types. Specify dtype option on import or set low_memory=False.\n",
      "\n"
     ]
    },
    {
     "name": "stdout",
     "output_type": "stream",
     "text": [
      "228 seconds: completed 280000 rows\n"
     ]
    },
    {
     "name": "stderr",
     "output_type": "stream",
     "text": [
      "//anaconda/lib/python3.5/site-packages/IPython/core/interactiveshell.py:2717: DtypeWarning:\n",
      "\n",
      "Columns (8,47,48) have mixed types. Specify dtype option on import or set low_memory=False.\n",
      "\n"
     ]
    },
    {
     "name": "stdout",
     "output_type": "stream",
     "text": [
      "244 seconds: completed 300000 rows\n"
     ]
    },
    {
     "name": "stderr",
     "output_type": "stream",
     "text": [
      "//anaconda/lib/python3.5/site-packages/IPython/core/interactiveshell.py:2717: DtypeWarning:\n",
      "\n",
      "Columns (8,48) have mixed types. Specify dtype option on import or set low_memory=False.\n",
      "\n"
     ]
    },
    {
     "name": "stdout",
     "output_type": "stream",
     "text": [
      "260 seconds: completed 320000 rows\n"
     ]
    },
    {
     "name": "stderr",
     "output_type": "stream",
     "text": [
      "//anaconda/lib/python3.5/site-packages/IPython/core/interactiveshell.py:2717: DtypeWarning:\n",
      "\n",
      "Columns (48) have mixed types. Specify dtype option on import or set low_memory=False.\n",
      "\n"
     ]
    },
    {
     "name": "stdout",
     "output_type": "stream",
     "text": [
      "276 seconds: completed 340000 rows\n"
     ]
    },
    {
     "name": "stderr",
     "output_type": "stream",
     "text": [
      "//anaconda/lib/python3.5/site-packages/IPython/core/interactiveshell.py:2717: DtypeWarning:\n",
      "\n",
      "Columns (47) have mixed types. Specify dtype option on import or set low_memory=False.\n",
      "\n"
     ]
    },
    {
     "name": "stdout",
     "output_type": "stream",
     "text": [
      "292 seconds: completed 360000 rows\n",
      "307 seconds: completed 380000 rows\n"
     ]
    },
    {
     "name": "stderr",
     "output_type": "stream",
     "text": [
      "//anaconda/lib/python3.5/site-packages/IPython/core/interactiveshell.py:2717: DtypeWarning:\n",
      "\n",
      "Columns (8,17,48) have mixed types. Specify dtype option on import or set low_memory=False.\n",
      "\n"
     ]
    },
    {
     "name": "stdout",
     "output_type": "stream",
     "text": [
      "323 seconds: completed 400000 rows\n"
     ]
    },
    {
     "name": "stderr",
     "output_type": "stream",
     "text": [
      "//anaconda/lib/python3.5/site-packages/IPython/core/interactiveshell.py:2717: DtypeWarning:\n",
      "\n",
      "Columns (8,17,39,40,41,42,43,44,45,46,47,48,49) have mixed types. Specify dtype option on import or set low_memory=False.\n",
      "\n"
     ]
    },
    {
     "name": "stdout",
     "output_type": "stream",
     "text": [
      "338 seconds: completed 420000 rows\n"
     ]
    },
    {
     "name": "stderr",
     "output_type": "stream",
     "text": [
      "//anaconda/lib/python3.5/site-packages/IPython/core/interactiveshell.py:2717: DtypeWarning:\n",
      "\n",
      "Columns (17,39,40,41,47) have mixed types. Specify dtype option on import or set low_memory=False.\n",
      "\n"
     ]
    },
    {
     "name": "stdout",
     "output_type": "stream",
     "text": [
      "354 seconds: completed 440000 rows\n"
     ]
    },
    {
     "name": "stderr",
     "output_type": "stream",
     "text": [
      "//anaconda/lib/python3.5/site-packages/IPython/core/interactiveshell.py:2717: DtypeWarning:\n",
      "\n",
      "Columns (8,17,39,40,41,43,44,45,46,49) have mixed types. Specify dtype option on import or set low_memory=False.\n",
      "\n"
     ]
    },
    {
     "name": "stdout",
     "output_type": "stream",
     "text": [
      "369 seconds: completed 460000 rows\n"
     ]
    },
    {
     "name": "stderr",
     "output_type": "stream",
     "text": [
      "//anaconda/lib/python3.5/site-packages/IPython/core/interactiveshell.py:2717: DtypeWarning:\n",
      "\n",
      "Columns (8,17,39,40,41,43,44,45,46,47,48,49) have mixed types. Specify dtype option on import or set low_memory=False.\n",
      "\n"
     ]
    },
    {
     "name": "stdout",
     "output_type": "stream",
     "text": [
      "385 seconds: completed 480000 rows\n"
     ]
    },
    {
     "name": "stderr",
     "output_type": "stream",
     "text": [
      "//anaconda/lib/python3.5/site-packages/IPython/core/interactiveshell.py:2717: DtypeWarning:\n",
      "\n",
      "Columns (8,47) have mixed types. Specify dtype option on import or set low_memory=False.\n",
      "\n"
     ]
    },
    {
     "name": "stdout",
     "output_type": "stream",
     "text": [
      "405 seconds: completed 500000 rows\n",
      "422 seconds: completed 520000 rows\n",
      "445 seconds: completed 540000 rows\n"
     ]
    },
    {
     "name": "stderr",
     "output_type": "stream",
     "text": [
      "//anaconda/lib/python3.5/site-packages/IPython/core/interactiveshell.py:2717: DtypeWarning:\n",
      "\n",
      "Columns (8,41) have mixed types. Specify dtype option on import or set low_memory=False.\n",
      "\n"
     ]
    },
    {
     "name": "stdout",
     "output_type": "stream",
     "text": [
      "487 seconds: completed 560000 rows\n",
      "529 seconds: completed 580000 rows\n"
     ]
    },
    {
     "name": "stderr",
     "output_type": "stream",
     "text": [
      "//anaconda/lib/python3.5/site-packages/IPython/core/interactiveshell.py:2717: DtypeWarning:\n",
      "\n",
      "Columns (8,17,40,41,48) have mixed types. Specify dtype option on import or set low_memory=False.\n",
      "\n"
     ]
    },
    {
     "name": "stdout",
     "output_type": "stream",
     "text": [
      "574 seconds: completed 600000 rows\n",
      "617 seconds: completed 620000 rows\n",
      "665 seconds: completed 640000 rows\n",
      "708 seconds: completed 660000 rows\n"
     ]
    },
    {
     "name": "stderr",
     "output_type": "stream",
     "text": [
      "//anaconda/lib/python3.5/site-packages/IPython/core/interactiveshell.py:2717: DtypeWarning:\n",
      "\n",
      "Columns (8,17,39,40,47,48,49) have mixed types. Specify dtype option on import or set low_memory=False.\n",
      "\n"
     ]
    },
    {
     "name": "stdout",
     "output_type": "stream",
     "text": [
      "751 seconds: completed 680000 rows\n"
     ]
    },
    {
     "name": "stderr",
     "output_type": "stream",
     "text": [
      "//anaconda/lib/python3.5/site-packages/IPython/core/interactiveshell.py:2717: DtypeWarning:\n",
      "\n",
      "Columns (8,17,39,47,48) have mixed types. Specify dtype option on import or set low_memory=False.\n",
      "\n"
     ]
    },
    {
     "name": "stdout",
     "output_type": "stream",
     "text": [
      "797 seconds: completed 700000 rows\n"
     ]
    },
    {
     "name": "stderr",
     "output_type": "stream",
     "text": [
      "//anaconda/lib/python3.5/site-packages/IPython/core/interactiveshell.py:2717: DtypeWarning:\n",
      "\n",
      "Columns (8,17,39) have mixed types. Specify dtype option on import or set low_memory=False.\n",
      "\n"
     ]
    },
    {
     "name": "stdout",
     "output_type": "stream",
     "text": [
      "853 seconds: completed 720000 rows\n",
      "884 seconds: completed 740000 rows\n"
     ]
    },
    {
     "name": "stderr",
     "output_type": "stream",
     "text": [
      "//anaconda/lib/python3.5/site-packages/IPython/core/interactiveshell.py:2717: DtypeWarning:\n",
      "\n",
      "Columns (8,48,49) have mixed types. Specify dtype option on import or set low_memory=False.\n",
      "\n"
     ]
    },
    {
     "name": "stdout",
     "output_type": "stream",
     "text": [
      "900 seconds: completed 760000 rows\n"
     ]
    },
    {
     "name": "stderr",
     "output_type": "stream",
     "text": [
      "//anaconda/lib/python3.5/site-packages/IPython/core/interactiveshell.py:2717: DtypeWarning:\n",
      "\n",
      "Columns (17,39,40,41,42,43,44,45,46,47,48,49) have mixed types. Specify dtype option on import or set low_memory=False.\n",
      "\n"
     ]
    },
    {
     "name": "stdout",
     "output_type": "stream",
     "text": [
      "919 seconds: completed 780000 rows\n",
      "937 seconds: completed 800000 rows\n"
     ]
    },
    {
     "name": "stderr",
     "output_type": "stream",
     "text": [
      "//anaconda/lib/python3.5/site-packages/IPython/core/interactiveshell.py:2717: DtypeWarning:\n",
      "\n",
      "Columns (8,41,48) have mixed types. Specify dtype option on import or set low_memory=False.\n",
      "\n"
     ]
    },
    {
     "name": "stdout",
     "output_type": "stream",
     "text": [
      "955 seconds: completed 820000 rows\n",
      "972 seconds: completed 840000 rows\n"
     ]
    },
    {
     "name": "stderr",
     "output_type": "stream",
     "text": [
      "//anaconda/lib/python3.5/site-packages/IPython/core/interactiveshell.py:2717: DtypeWarning:\n",
      "\n",
      "Columns (8,17,39,41,47,48) have mixed types. Specify dtype option on import or set low_memory=False.\n",
      "\n"
     ]
    },
    {
     "name": "stdout",
     "output_type": "stream",
     "text": [
      "990 seconds: completed 860000 rows\n",
      "1008 seconds: completed 880000 rows\n",
      "1026 seconds: completed 900000 rows\n",
      "1043 seconds: completed 920000 rows\n",
      "1062 seconds: completed 940000 rows\n"
     ]
    },
    {
     "name": "stderr",
     "output_type": "stream",
     "text": [
      "//anaconda/lib/python3.5/site-packages/IPython/core/interactiveshell.py:2717: DtypeWarning:\n",
      "\n",
      "Columns (17,39,47,48) have mixed types. Specify dtype option on import or set low_memory=False.\n",
      "\n"
     ]
    },
    {
     "name": "stdout",
     "output_type": "stream",
     "text": [
      "1078 seconds: completed 960000 rows\n",
      "1096 seconds: completed 980000 rows\n",
      "1114 seconds: completed 1000000 rows\n",
      "1133 seconds: completed 1020000 rows\n"
     ]
    },
    {
     "name": "stderr",
     "output_type": "stream",
     "text": [
      "//anaconda/lib/python3.5/site-packages/IPython/core/interactiveshell.py:2717: DtypeWarning:\n",
      "\n",
      "Columns (8,39,47) have mixed types. Specify dtype option on import or set low_memory=False.\n",
      "\n"
     ]
    },
    {
     "name": "stdout",
     "output_type": "stream",
     "text": [
      "1151 seconds: completed 1040000 rows\n",
      "1166 seconds: completed 1060000 rows\n",
      "1183 seconds: completed 1080000 rows\n"
     ]
    },
    {
     "name": "stderr",
     "output_type": "stream",
     "text": [
      "//anaconda/lib/python3.5/site-packages/IPython/core/interactiveshell.py:2717: DtypeWarning:\n",
      "\n",
      "Columns (8,39,47,48,49) have mixed types. Specify dtype option on import or set low_memory=False.\n",
      "\n"
     ]
    },
    {
     "name": "stdout",
     "output_type": "stream",
     "text": [
      "1201 seconds: completed 1100000 rows\n",
      "1222 seconds: completed 1120000 rows\n",
      "1238 seconds: completed 1140000 rows\n",
      "1254 seconds: completed 1160000 rows\n"
     ]
    },
    {
     "name": "stderr",
     "output_type": "stream",
     "text": [
      "//anaconda/lib/python3.5/site-packages/IPython/core/interactiveshell.py:2717: DtypeWarning:\n",
      "\n",
      "Columns (40,41,48) have mixed types. Specify dtype option on import or set low_memory=False.\n",
      "\n"
     ]
    },
    {
     "name": "stdout",
     "output_type": "stream",
     "text": [
      "1270 seconds: completed 1180000 rows\n"
     ]
    },
    {
     "name": "stderr",
     "output_type": "stream",
     "text": [
      "//anaconda/lib/python3.5/site-packages/IPython/core/interactiveshell.py:2717: DtypeWarning:\n",
      "\n",
      "Columns (8,39,47,48) have mixed types. Specify dtype option on import or set low_memory=False.\n",
      "\n"
     ]
    },
    {
     "name": "stdout",
     "output_type": "stream",
     "text": [
      "1287 seconds: completed 1200000 rows\n",
      "1305 seconds: completed 1220000 rows\n"
     ]
    },
    {
     "name": "stderr",
     "output_type": "stream",
     "text": [
      "//anaconda/lib/python3.5/site-packages/IPython/core/interactiveshell.py:2717: DtypeWarning:\n",
      "\n",
      "Columns (48,49) have mixed types. Specify dtype option on import or set low_memory=False.\n",
      "\n"
     ]
    },
    {
     "name": "stdout",
     "output_type": "stream",
     "text": [
      "1322 seconds: completed 1240000 rows\n",
      "1339 seconds: completed 1260000 rows\n",
      "1357 seconds: completed 1280000 rows\n",
      "1372 seconds: completed 1300000 rows\n",
      "1388 seconds: completed 1320000 rows\n",
      "1403 seconds: completed 1340000 rows\n",
      "1419 seconds: completed 1360000 rows\n",
      "1434 seconds: completed 1380000 rows\n",
      "1450 seconds: completed 1400000 rows\n"
     ]
    },
    {
     "name": "stderr",
     "output_type": "stream",
     "text": [
      "//anaconda/lib/python3.5/site-packages/IPython/core/interactiveshell.py:2717: DtypeWarning:\n",
      "\n",
      "Columns (39,48) have mixed types. Specify dtype option on import or set low_memory=False.\n",
      "\n"
     ]
    },
    {
     "name": "stdout",
     "output_type": "stream",
     "text": [
      "1465 seconds: completed 1420000 rows\n",
      "1481 seconds: completed 1440000 rows\n",
      "1497 seconds: completed 1460000 rows\n",
      "1512 seconds: completed 1480000 rows\n",
      "1528 seconds: completed 1500000 rows\n",
      "1543 seconds: completed 1520000 rows\n",
      "1559 seconds: completed 1540000 rows\n"
     ]
    },
    {
     "name": "stderr",
     "output_type": "stream",
     "text": [
      "//anaconda/lib/python3.5/site-packages/IPython/core/interactiveshell.py:2717: DtypeWarning:\n",
      "\n",
      "Columns (8,40,41,48) have mixed types. Specify dtype option on import or set low_memory=False.\n",
      "\n"
     ]
    },
    {
     "name": "stdout",
     "output_type": "stream",
     "text": [
      "1576 seconds: completed 1560000 rows\n",
      "1592 seconds: completed 1580000 rows\n"
     ]
    },
    {
     "name": "stderr",
     "output_type": "stream",
     "text": [
      "//anaconda/lib/python3.5/site-packages/IPython/core/interactiveshell.py:2717: DtypeWarning:\n",
      "\n",
      "Columns (40,41,43,44,45,46,47,48) have mixed types. Specify dtype option on import or set low_memory=False.\n",
      "\n"
     ]
    },
    {
     "name": "stdout",
     "output_type": "stream",
     "text": [
      "1607 seconds: completed 1600000 rows\n",
      "1625 seconds: completed 1620000 rows\n",
      "1646 seconds: completed 1640000 rows\n",
      "1665 seconds: completed 1660000 rows\n",
      "1682 seconds: completed 1680000 rows\n",
      "1698 seconds: completed 1700000 rows\n",
      "1713 seconds: completed 1720000 rows\n",
      "1727 seconds: completed 1740000 rows\n",
      "1742 seconds: completed 1760000 rows\n",
      "1757 seconds: completed 1780000 rows\n",
      "1771 seconds: completed 1800000 rows\n",
      "1785 seconds: completed 1820000 rows\n"
     ]
    },
    {
     "name": "stderr",
     "output_type": "stream",
     "text": [
      "//anaconda/lib/python3.5/site-packages/IPython/core/interactiveshell.py:2717: DtypeWarning:\n",
      "\n",
      "Columns (39,41) have mixed types. Specify dtype option on import or set low_memory=False.\n",
      "\n"
     ]
    },
    {
     "name": "stdout",
     "output_type": "stream",
     "text": [
      "1800 seconds: completed 1840000 rows\n",
      "1814 seconds: completed 1860000 rows\n"
     ]
    },
    {
     "name": "stderr",
     "output_type": "stream",
     "text": [
      "//anaconda/lib/python3.5/site-packages/IPython/core/interactiveshell.py:2717: DtypeWarning:\n",
      "\n",
      "Columns (8,41,47,48) have mixed types. Specify dtype option on import or set low_memory=False.\n",
      "\n"
     ]
    },
    {
     "name": "stdout",
     "output_type": "stream",
     "text": [
      "1827 seconds: completed 1880000 rows\n",
      "1842 seconds: completed 1900000 rows\n",
      "1856 seconds: completed 1920000 rows\n",
      "1871 seconds: completed 1940000 rows\n",
      "1885 seconds: completed 1960000 rows\n",
      "1899 seconds: completed 1980000 rows\n"
     ]
    },
    {
     "name": "stderr",
     "output_type": "stream",
     "text": [
      "//anaconda/lib/python3.5/site-packages/IPython/core/interactiveshell.py:2717: DtypeWarning:\n",
      "\n",
      "Columns (40,41,47) have mixed types. Specify dtype option on import or set low_memory=False.\n",
      "\n"
     ]
    },
    {
     "name": "stdout",
     "output_type": "stream",
     "text": [
      "1914 seconds: completed 2000000 rows\n",
      "1929 seconds: completed 2020000 rows\n",
      "1947 seconds: completed 2040000 rows\n",
      "1964 seconds: completed 2060000 rows\n"
     ]
    },
    {
     "name": "stderr",
     "output_type": "stream",
     "text": [
      "//anaconda/lib/python3.5/site-packages/IPython/core/interactiveshell.py:2717: DtypeWarning:\n",
      "\n",
      "Columns (47,48) have mixed types. Specify dtype option on import or set low_memory=False.\n",
      "\n"
     ]
    },
    {
     "name": "stdout",
     "output_type": "stream",
     "text": [
      "1978 seconds: completed 2080000 rows\n",
      "1992 seconds: completed 2100000 rows\n",
      "2007 seconds: completed 2120000 rows\n",
      "2022 seconds: completed 2140000 rows\n",
      "2036 seconds: completed 2160000 rows\n",
      "2053 seconds: completed 2180000 rows\n",
      "2067 seconds: completed 2200000 rows\n",
      "2082 seconds: completed 2220000 rows\n"
     ]
    },
    {
     "name": "stderr",
     "output_type": "stream",
     "text": [
      "//anaconda/lib/python3.5/site-packages/IPython/core/interactiveshell.py:2717: DtypeWarning:\n",
      "\n",
      "Columns (8,39,48) have mixed types. Specify dtype option on import or set low_memory=False.\n",
      "\n"
     ]
    },
    {
     "name": "stdout",
     "output_type": "stream",
     "text": [
      "2097 seconds: completed 2240000 rows\n"
     ]
    },
    {
     "name": "stderr",
     "output_type": "stream",
     "text": [
      "//anaconda/lib/python3.5/site-packages/IPython/core/interactiveshell.py:2717: DtypeWarning:\n",
      "\n",
      "Columns (8,17,40,41,43,44,45,46,47,48) have mixed types. Specify dtype option on import or set low_memory=False.\n",
      "\n"
     ]
    },
    {
     "name": "stdout",
     "output_type": "stream",
     "text": [
      "2112 seconds: completed 2260000 rows\n",
      "2129 seconds: completed 2280000 rows\n",
      "2145 seconds: completed 2300000 rows\n",
      "2160 seconds: completed 2320000 rows\n",
      "2175 seconds: completed 2340000 rows\n",
      "2190 seconds: completed 2360000 rows\n",
      "2202 seconds: completed 2380000 rows\n"
     ]
    },
    {
     "name": "stderr",
     "output_type": "stream",
     "text": [
      "//anaconda/lib/python3.5/site-packages/IPython/core/interactiveshell.py:2717: DtypeWarning:\n",
      "\n",
      "Columns (8,40,48,49) have mixed types. Specify dtype option on import or set low_memory=False.\n",
      "\n"
     ]
    },
    {
     "name": "stdout",
     "output_type": "stream",
     "text": [
      "2215 seconds: completed 2400000 rows\n",
      "2228 seconds: completed 2420000 rows\n",
      "2241 seconds: completed 2440000 rows\n",
      "2253 seconds: completed 2460000 rows\n"
     ]
    },
    {
     "name": "stderr",
     "output_type": "stream",
     "text": [
      "//anaconda/lib/python3.5/site-packages/IPython/core/interactiveshell.py:2717: DtypeWarning:\n",
      "\n",
      "Columns (8,40,41,47,48,49) have mixed types. Specify dtype option on import or set low_memory=False.\n",
      "\n"
     ]
    },
    {
     "name": "stdout",
     "output_type": "stream",
     "text": [
      "2267 seconds: completed 2480000 rows\n",
      "2280 seconds: completed 2500000 rows\n"
     ]
    },
    {
     "name": "stderr",
     "output_type": "stream",
     "text": [
      "//anaconda/lib/python3.5/site-packages/IPython/core/interactiveshell.py:2717: DtypeWarning:\n",
      "\n",
      "Columns (8,17,39,40,41,47,48,49) have mixed types. Specify dtype option on import or set low_memory=False.\n",
      "\n"
     ]
    },
    {
     "name": "stdout",
     "output_type": "stream",
     "text": [
      "2293 seconds: completed 2520000 rows\n",
      "2307 seconds: completed 2540000 rows\n",
      "2320 seconds: completed 2560000 rows\n",
      "2333 seconds: completed 2580000 rows\n",
      "2349 seconds: completed 2600000 rows\n",
      "2363 seconds: completed 2620000 rows\n",
      "2379 seconds: completed 2640000 rows\n",
      "2396 seconds: completed 2660000 rows\n",
      "2411 seconds: completed 2680000 rows\n",
      "2425 seconds: completed 2700000 rows\n",
      "2438 seconds: completed 2720000 rows\n",
      "2451 seconds: completed 2740000 rows\n",
      "2465 seconds: completed 2760000 rows\n",
      "2478 seconds: completed 2780000 rows\n",
      "2492 seconds: completed 2800000 rows\n",
      "2505 seconds: completed 2820000 rows\n",
      "2519 seconds: completed 2840000 rows\n",
      "2533 seconds: completed 2860000 rows\n",
      "2547 seconds: completed 2880000 rows\n",
      "2562 seconds: completed 2900000 rows\n",
      "2576 seconds: completed 2920000 rows\n",
      "2590 seconds: completed 2940000 rows\n",
      "2606 seconds: completed 2960000 rows\n"
     ]
    },
    {
     "name": "stderr",
     "output_type": "stream",
     "text": [
      "//anaconda/lib/python3.5/site-packages/IPython/core/interactiveshell.py:2717: DtypeWarning:\n",
      "\n",
      "Columns (17,39,48) have mixed types. Specify dtype option on import or set low_memory=False.\n",
      "\n"
     ]
    },
    {
     "name": "stdout",
     "output_type": "stream",
     "text": [
      "2620 seconds: completed 2980000 rows\n",
      "2635 seconds: completed 3000000 rows\n",
      "2649 seconds: completed 3020000 rows\n"
     ]
    },
    {
     "name": "stderr",
     "output_type": "stream",
     "text": [
      "//anaconda/lib/python3.5/site-packages/IPython/core/interactiveshell.py:2717: DtypeWarning:\n",
      "\n",
      "Columns (39,48,49) have mixed types. Specify dtype option on import or set low_memory=False.\n",
      "\n"
     ]
    },
    {
     "name": "stdout",
     "output_type": "stream",
     "text": [
      "2664 seconds: completed 3040000 rows\n",
      "2678 seconds: completed 3060000 rows\n",
      "2692 seconds: completed 3080000 rows\n",
      "2708 seconds: completed 3100000 rows\n",
      "2723 seconds: completed 3120000 rows\n"
     ]
    },
    {
     "name": "stderr",
     "output_type": "stream",
     "text": [
      "//anaconda/lib/python3.5/site-packages/IPython/core/interactiveshell.py:2717: DtypeWarning:\n",
      "\n",
      "Columns (8,17,39,40,43,44,45,46,47,48) have mixed types. Specify dtype option on import or set low_memory=False.\n",
      "\n"
     ]
    },
    {
     "name": "stdout",
     "output_type": "stream",
     "text": [
      "2738 seconds: completed 3140000 rows\n",
      "2754 seconds: completed 3160000 rows\n",
      "2768 seconds: completed 3180000 rows\n",
      "2783 seconds: completed 3200000 rows\n"
     ]
    },
    {
     "name": "stderr",
     "output_type": "stream",
     "text": [
      "//anaconda/lib/python3.5/site-packages/IPython/core/interactiveshell.py:2717: DtypeWarning:\n",
      "\n",
      "Columns (39,47) have mixed types. Specify dtype option on import or set low_memory=False.\n",
      "\n"
     ]
    },
    {
     "name": "stdout",
     "output_type": "stream",
     "text": [
      "2798 seconds: completed 3220000 rows\n"
     ]
    },
    {
     "name": "stderr",
     "output_type": "stream",
     "text": [
      "//anaconda/lib/python3.5/site-packages/IPython/core/interactiveshell.py:2717: DtypeWarning:\n",
      "\n",
      "Columns (17,47,48) have mixed types. Specify dtype option on import or set low_memory=False.\n",
      "\n"
     ]
    },
    {
     "name": "stdout",
     "output_type": "stream",
     "text": [
      "2814 seconds: completed 3240000 rows\n",
      "2829 seconds: completed 3260000 rows\n",
      "2843 seconds: completed 3280000 rows\n",
      "2858 seconds: completed 3300000 rows\n"
     ]
    },
    {
     "name": "stderr",
     "output_type": "stream",
     "text": [
      "//anaconda/lib/python3.5/site-packages/IPython/core/interactiveshell.py:2717: DtypeWarning:\n",
      "\n",
      "Columns (8,40) have mixed types. Specify dtype option on import or set low_memory=False.\n",
      "\n"
     ]
    },
    {
     "name": "stdout",
     "output_type": "stream",
     "text": [
      "2872 seconds: completed 3320000 rows\n",
      "2886 seconds: completed 3340000 rows\n",
      "2901 seconds: completed 3360000 rows\n",
      "2915 seconds: completed 3380000 rows\n",
      "2930 seconds: completed 3400000 rows\n",
      "2944 seconds: completed 3420000 rows\n",
      "2959 seconds: completed 3440000 rows\n",
      "2973 seconds: completed 3460000 rows\n",
      "2988 seconds: completed 3480000 rows\n"
     ]
    },
    {
     "name": "stderr",
     "output_type": "stream",
     "text": [
      "//anaconda/lib/python3.5/site-packages/IPython/core/interactiveshell.py:2717: DtypeWarning:\n",
      "\n",
      "Columns (17,39,41,43,44,45,46,47,48) have mixed types. Specify dtype option on import or set low_memory=False.\n",
      "\n"
     ]
    },
    {
     "name": "stdout",
     "output_type": "stream",
     "text": [
      "3002 seconds: completed 3500000 rows\n",
      "3016 seconds: completed 3520000 rows\n",
      "3030 seconds: completed 3540000 rows\n",
      "3044 seconds: completed 3560000 rows\n",
      "3059 seconds: completed 3580000 rows\n",
      "3076 seconds: completed 3600000 rows\n",
      "3091 seconds: completed 3620000 rows\n",
      "3105 seconds: completed 3640000 rows\n",
      "3120 seconds: completed 3660000 rows\n",
      "3134 seconds: completed 3680000 rows\n",
      "3149 seconds: completed 3700000 rows\n",
      "3164 seconds: completed 3720000 rows\n",
      "3178 seconds: completed 3740000 rows\n"
     ]
    },
    {
     "name": "stderr",
     "output_type": "stream",
     "text": [
      "//anaconda/lib/python3.5/site-packages/IPython/core/interactiveshell.py:2717: DtypeWarning:\n",
      "\n",
      "Columns (8,39,43,44,45,46,47) have mixed types. Specify dtype option on import or set low_memory=False.\n",
      "\n"
     ]
    },
    {
     "name": "stdout",
     "output_type": "stream",
     "text": [
      "3192 seconds: completed 3760000 rows\n",
      "3207 seconds: completed 3780000 rows\n",
      "3221 seconds: completed 3800000 rows\n",
      "3236 seconds: completed 3820000 rows\n",
      "3250 seconds: completed 3840000 rows\n",
      "3264 seconds: completed 3860000 rows\n",
      "3279 seconds: completed 3880000 rows\n",
      "3293 seconds: completed 3900000 rows\n",
      "3309 seconds: completed 3920000 rows\n",
      "3323 seconds: completed 3940000 rows\n",
      "3338 seconds: completed 3960000 rows\n",
      "3352 seconds: completed 3980000 rows\n",
      "3366 seconds: completed 4000000 rows\n",
      "3381 seconds: completed 4020000 rows\n"
     ]
    },
    {
     "name": "stderr",
     "output_type": "stream",
     "text": [
      "//anaconda/lib/python3.5/site-packages/IPython/core/interactiveshell.py:2717: DtypeWarning:\n",
      "\n",
      "Columns (17) have mixed types. Specify dtype option on import or set low_memory=False.\n",
      "\n"
     ]
    },
    {
     "name": "stdout",
     "output_type": "stream",
     "text": [
      "3395 seconds: completed 4040000 rows\n",
      "3410 seconds: completed 4060000 rows\n",
      "3424 seconds: completed 4080000 rows\n",
      "3438 seconds: completed 4100000 rows\n"
     ]
    },
    {
     "name": "stderr",
     "output_type": "stream",
     "text": [
      "//anaconda/lib/python3.5/site-packages/IPython/core/interactiveshell.py:2717: DtypeWarning:\n",
      "\n",
      "Columns (8,17,47) have mixed types. Specify dtype option on import or set low_memory=False.\n",
      "\n"
     ]
    },
    {
     "name": "stdout",
     "output_type": "stream",
     "text": [
      "3453 seconds: completed 4120000 rows\n",
      "3467 seconds: completed 4140000 rows\n",
      "3481 seconds: completed 4160000 rows\n",
      "3496 seconds: completed 4180000 rows\n",
      "3510 seconds: completed 4200000 rows\n",
      "3525 seconds: completed 4220000 rows\n",
      "3539 seconds: completed 4240000 rows\n",
      "3553 seconds: completed 4260000 rows\n",
      "3568 seconds: completed 4280000 rows\n",
      "3582 seconds: completed 4300000 rows\n",
      "3596 seconds: completed 4320000 rows\n",
      "3610 seconds: completed 4340000 rows\n",
      "3625 seconds: completed 4360000 rows\n",
      "3639 seconds: completed 4380000 rows\n",
      "3653 seconds: completed 4400000 rows\n",
      "3668 seconds: completed 4420000 rows\n",
      "3682 seconds: completed 4440000 rows\n",
      "3696 seconds: completed 4460000 rows\n",
      "3711 seconds: completed 4480000 rows\n",
      "3725 seconds: completed 4500000 rows\n",
      "3739 seconds: completed 4520000 rows\n",
      "3753 seconds: completed 4540000 rows\n",
      "3768 seconds: completed 4560000 rows\n",
      "3782 seconds: completed 4580000 rows\n",
      "3796 seconds: completed 4600000 rows\n",
      "3810 seconds: completed 4620000 rows\n",
      "3825 seconds: completed 4640000 rows\n",
      "3839 seconds: completed 4660000 rows\n",
      "3853 seconds: completed 4680000 rows\n",
      "3867 seconds: completed 4700000 rows\n",
      "3882 seconds: completed 4720000 rows\n",
      "3896 seconds: completed 4740000 rows\n",
      "3910 seconds: completed 4760000 rows\n",
      "3924 seconds: completed 4780000 rows\n",
      "3939 seconds: completed 4800000 rows\n",
      "4618 seconds: completed 4820000 rows\n",
      "4633 seconds: completed 4840000 rows\n",
      "4647 seconds: completed 4860000 rows\n",
      "4662 seconds: completed 4880000 rows\n",
      "4676 seconds: completed 4900000 rows\n",
      "4690 seconds: completed 4920000 rows\n"
     ]
    },
    {
     "name": "stderr",
     "output_type": "stream",
     "text": [
      "//anaconda/lib/python3.5/site-packages/IPython/core/interactiveshell.py:2717: DtypeWarning:\n",
      "\n",
      "Columns (41,48) have mixed types. Specify dtype option on import or set low_memory=False.\n",
      "\n"
     ]
    },
    {
     "name": "stdout",
     "output_type": "stream",
     "text": [
      "4704 seconds: completed 4940000 rows\n",
      "4718 seconds: completed 4960000 rows\n",
      "4733 seconds: completed 4980000 rows\n",
      "4747 seconds: completed 5000000 rows\n",
      "4761 seconds: completed 5020000 rows\n"
     ]
    },
    {
     "name": "stderr",
     "output_type": "stream",
     "text": [
      "//anaconda/lib/python3.5/site-packages/IPython/core/interactiveshell.py:2717: DtypeWarning:\n",
      "\n",
      "Columns (43,44,45,46) have mixed types. Specify dtype option on import or set low_memory=False.\n",
      "\n"
     ]
    },
    {
     "name": "stdout",
     "output_type": "stream",
     "text": [
      "4775 seconds: completed 5040000 rows\n",
      "4790 seconds: completed 5060000 rows\n",
      "4804 seconds: completed 5080000 rows\n",
      "4818 seconds: completed 5100000 rows\n",
      "4833 seconds: completed 5120000 rows\n"
     ]
    },
    {
     "name": "stderr",
     "output_type": "stream",
     "text": [
      "//anaconda/lib/python3.5/site-packages/IPython/core/interactiveshell.py:2717: DtypeWarning:\n",
      "\n",
      "Columns (8,17,48,49) have mixed types. Specify dtype option on import or set low_memory=False.\n",
      "\n"
     ]
    },
    {
     "name": "stdout",
     "output_type": "stream",
     "text": [
      "4847 seconds: completed 5140000 rows\n"
     ]
    },
    {
     "name": "stderr",
     "output_type": "stream",
     "text": [
      "//anaconda/lib/python3.5/site-packages/IPython/core/interactiveshell.py:2717: DtypeWarning:\n",
      "\n",
      "Columns (47,48,49) have mixed types. Specify dtype option on import or set low_memory=False.\n",
      "\n"
     ]
    },
    {
     "name": "stdout",
     "output_type": "stream",
     "text": [
      "4862 seconds: completed 5160000 rows\n",
      "4876 seconds: completed 5180000 rows\n",
      "4891 seconds: completed 5200000 rows\n",
      "4905 seconds: completed 5220000 rows\n",
      "4919 seconds: completed 5240000 rows\n",
      "4934 seconds: completed 5260000 rows\n"
     ]
    },
    {
     "name": "stderr",
     "output_type": "stream",
     "text": [
      "//anaconda/lib/python3.5/site-packages/IPython/core/interactiveshell.py:2717: DtypeWarning:\n",
      "\n",
      "Columns (17,48) have mixed types. Specify dtype option on import or set low_memory=False.\n",
      "\n"
     ]
    },
    {
     "name": "stdout",
     "output_type": "stream",
     "text": [
      "4948 seconds: completed 5280000 rows\n"
     ]
    },
    {
     "name": "stderr",
     "output_type": "stream",
     "text": [
      "//anaconda/lib/python3.5/site-packages/IPython/core/interactiveshell.py:2717: DtypeWarning:\n",
      "\n",
      "Columns (8,40,41) have mixed types. Specify dtype option on import or set low_memory=False.\n",
      "\n"
     ]
    },
    {
     "name": "stdout",
     "output_type": "stream",
     "text": [
      "4962 seconds: completed 5300000 rows\n",
      "4980 seconds: completed 5320000 rows\n",
      "4995 seconds: completed 5340000 rows\n",
      "5009 seconds: completed 5360000 rows\n",
      "5024 seconds: completed 5380000 rows\n",
      "5038 seconds: completed 5400000 rows\n",
      "5052 seconds: completed 5420000 rows\n",
      "5066 seconds: completed 5440000 rows\n",
      "5080 seconds: completed 5460000 rows\n",
      "5094 seconds: completed 5480000 rows\n",
      "5108 seconds: completed 5500000 rows\n",
      "5122 seconds: completed 5520000 rows\n"
     ]
    },
    {
     "name": "stderr",
     "output_type": "stream",
     "text": [
      "//anaconda/lib/python3.5/site-packages/IPython/core/interactiveshell.py:2717: DtypeWarning:\n",
      "\n",
      "Columns (8,17,40,41,47,48) have mixed types. Specify dtype option on import or set low_memory=False.\n",
      "\n"
     ]
    },
    {
     "name": "stdout",
     "output_type": "stream",
     "text": [
      "5136 seconds: completed 5540000 rows\n",
      "5151 seconds: completed 5560000 rows\n",
      "5165 seconds: completed 5580000 rows\n",
      "5179 seconds: completed 5600000 rows\n",
      "5193 seconds: completed 5620000 rows\n",
      "5207 seconds: completed 5640000 rows\n",
      "5221 seconds: completed 5660000 rows\n",
      "5235 seconds: completed 5680000 rows\n",
      "5249 seconds: completed 5700000 rows\n",
      "5264 seconds: completed 5720000 rows\n",
      "5278 seconds: completed 5740000 rows\n",
      "5292 seconds: completed 5760000 rows\n",
      "5306 seconds: completed 5780000 rows\n",
      "5320 seconds: completed 5800000 rows\n",
      "5334 seconds: completed 5820000 rows\n",
      "5348 seconds: completed 5840000 rows\n",
      "5362 seconds: completed 5860000 rows\n",
      "5376 seconds: completed 5880000 rows\n",
      "5390 seconds: completed 5900000 rows\n",
      "5404 seconds: completed 5920000 rows\n",
      "5418 seconds: completed 5940000 rows\n",
      "5432 seconds: completed 5960000 rows\n",
      "5447 seconds: completed 5980000 rows\n",
      "5461 seconds: completed 6000000 rows\n",
      "5475 seconds: completed 6020000 rows\n",
      "5489 seconds: completed 6040000 rows\n",
      "5505 seconds: completed 6060000 rows\n",
      "5520 seconds: completed 6080000 rows\n",
      "5533 seconds: completed 6100000 rows\n",
      "5547 seconds: completed 6120000 rows\n",
      "5561 seconds: completed 6140000 rows\n",
      "5575 seconds: completed 6160000 rows\n",
      "5589 seconds: completed 6180000 rows\n",
      "5603 seconds: completed 6200000 rows\n",
      "5617 seconds: completed 6220000 rows\n",
      "5631 seconds: completed 6240000 rows\n",
      "5645 seconds: completed 6260000 rows\n",
      "5659 seconds: completed 6280000 rows\n",
      "5673 seconds: completed 6300000 rows\n",
      "5688 seconds: completed 6320000 rows\n",
      "5704 seconds: completed 6340000 rows\n",
      "5718 seconds: completed 6360000 rows\n",
      "5732 seconds: completed 6380000 rows\n",
      "5746 seconds: completed 6400000 rows\n",
      "5760 seconds: completed 6420000 rows\n",
      "5774 seconds: completed 6440000 rows\n",
      "5788 seconds: completed 6460000 rows\n",
      "5801 seconds: completed 6480000 rows\n",
      "5817 seconds: completed 6500000 rows\n",
      "5832 seconds: completed 6520000 rows\n",
      "5846 seconds: completed 6540000 rows\n",
      "5859 seconds: completed 6560000 rows\n",
      "5874 seconds: completed 6580000 rows\n",
      "5888 seconds: completed 6600000 rows\n",
      "5903 seconds: completed 6620000 rows\n",
      "5917 seconds: completed 6640000 rows\n",
      "5933 seconds: completed 6660000 rows\n",
      "5947 seconds: completed 6680000 rows\n",
      "5961 seconds: completed 6700000 rows\n",
      "5975 seconds: completed 6720000 rows\n",
      "5990 seconds: completed 6740000 rows\n",
      "6004 seconds: completed 6760000 rows\n",
      "6018 seconds: completed 6780000 rows\n",
      "6032 seconds: completed 6800000 rows\n",
      "6046 seconds: completed 6820000 rows\n",
      "6061 seconds: completed 6840000 rows\n",
      "6075 seconds: completed 6860000 rows\n",
      "6089 seconds: completed 6880000 rows\n"
     ]
    },
    {
     "name": "stderr",
     "output_type": "stream",
     "text": [
      "//anaconda/lib/python3.5/site-packages/IPython/core/interactiveshell.py:2717: DtypeWarning:\n",
      "\n",
      "Columns (17,47,48,49) have mixed types. Specify dtype option on import or set low_memory=False.\n",
      "\n"
     ]
    },
    {
     "name": "stdout",
     "output_type": "stream",
     "text": [
      "6104 seconds: completed 6900000 rows\n",
      "6118 seconds: completed 6920000 rows\n",
      "6132 seconds: completed 6940000 rows\n",
      "6147 seconds: completed 6960000 rows\n",
      "6161 seconds: completed 6980000 rows\n",
      "6175 seconds: completed 7000000 rows\n",
      "6190 seconds: completed 7020000 rows\n",
      "6204 seconds: completed 7040000 rows\n",
      "6218 seconds: completed 7060000 rows\n",
      "6234 seconds: completed 7080000 rows\n"
     ]
    },
    {
     "name": "stderr",
     "output_type": "stream",
     "text": [
      "//anaconda/lib/python3.5/site-packages/IPython/core/interactiveshell.py:2717: DtypeWarning:\n",
      "\n",
      "Columns (8,43,44,45,48,49) have mixed types. Specify dtype option on import or set low_memory=False.\n",
      "\n"
     ]
    },
    {
     "name": "stdout",
     "output_type": "stream",
     "text": [
      "6248 seconds: completed 7100000 rows\n",
      "6263 seconds: completed 7120000 rows\n"
     ]
    },
    {
     "name": "stderr",
     "output_type": "stream",
     "text": [
      "//anaconda/lib/python3.5/site-packages/IPython/core/interactiveshell.py:2717: DtypeWarning:\n",
      "\n",
      "Columns (40,48,49) have mixed types. Specify dtype option on import or set low_memory=False.\n",
      "\n"
     ]
    },
    {
     "name": "stdout",
     "output_type": "stream",
     "text": [
      "6277 seconds: completed 7140000 rows\n",
      "6291 seconds: completed 7160000 rows\n",
      "6305 seconds: completed 7180000 rows\n",
      "6321 seconds: completed 7200000 rows\n"
     ]
    },
    {
     "name": "stderr",
     "output_type": "stream",
     "text": [
      "//anaconda/lib/python3.5/site-packages/IPython/core/interactiveshell.py:2717: DtypeWarning:\n",
      "\n",
      "Columns (8,17,40,41) have mixed types. Specify dtype option on import or set low_memory=False.\n",
      "\n"
     ]
    },
    {
     "name": "stdout",
     "output_type": "stream",
     "text": [
      "6336 seconds: completed 7220000 rows\n"
     ]
    },
    {
     "name": "stderr",
     "output_type": "stream",
     "text": [
      "//anaconda/lib/python3.5/site-packages/IPython/core/interactiveshell.py:2717: DtypeWarning:\n",
      "\n",
      "Columns (13,14,17,18,20,38,40,41,42,43,44,45,46,47,48,49) have mixed types. Specify dtype option on import or set low_memory=False.\n",
      "\n"
     ]
    },
    {
     "name": "stdout",
     "output_type": "stream",
     "text": [
      "6351 seconds: completed 7240000 rows\n"
     ]
    },
    {
     "name": "stderr",
     "output_type": "stream",
     "text": [
      "//anaconda/lib/python3.5/site-packages/IPython/core/interactiveshell.py:2717: DtypeWarning:\n",
      "\n",
      "Columns (41,47,48,49) have mixed types. Specify dtype option on import or set low_memory=False.\n",
      "\n"
     ]
    },
    {
     "name": "stdout",
     "output_type": "stream",
     "text": [
      "6365 seconds: completed 7260000 rows\n",
      "6379 seconds: completed 7280000 rows\n"
     ]
    },
    {
     "name": "stderr",
     "output_type": "stream",
     "text": [
      "//anaconda/lib/python3.5/site-packages/IPython/core/interactiveshell.py:2717: DtypeWarning:\n",
      "\n",
      "Columns (8,41,47) have mixed types. Specify dtype option on import or set low_memory=False.\n",
      "\n"
     ]
    },
    {
     "name": "stdout",
     "output_type": "stream",
     "text": [
      "6393 seconds: completed 7300000 rows\n",
      "6407 seconds: completed 7320000 rows\n",
      "6423 seconds: completed 7340000 rows\n",
      "6437 seconds: completed 7360000 rows\n",
      "6451 seconds: completed 7380000 rows\n"
     ]
    },
    {
     "name": "stderr",
     "output_type": "stream",
     "text": [
      "//anaconda/lib/python3.5/site-packages/IPython/core/interactiveshell.py:2717: DtypeWarning:\n",
      "\n",
      "Columns (8,41,47,48,49) have mixed types. Specify dtype option on import or set low_memory=False.\n",
      "\n"
     ]
    },
    {
     "name": "stdout",
     "output_type": "stream",
     "text": [
      "6465 seconds: completed 7400000 rows\n",
      "6480 seconds: completed 7420000 rows\n",
      "6494 seconds: completed 7440000 rows\n",
      "6508 seconds: completed 7460000 rows\n",
      "6523 seconds: completed 7480000 rows\n",
      "6538 seconds: completed 7500000 rows\n",
      "6552 seconds: completed 7520000 rows\n",
      "6566 seconds: completed 7540000 rows\n",
      "6580 seconds: completed 7560000 rows\n",
      "6594 seconds: completed 7580000 rows\n",
      "6609 seconds: completed 7600000 rows\n",
      "6623 seconds: completed 7620000 rows\n"
     ]
    },
    {
     "name": "stderr",
     "output_type": "stream",
     "text": [
      "//anaconda/lib/python3.5/site-packages/IPython/core/interactiveshell.py:2717: DtypeWarning:\n",
      "\n",
      "Columns (40,47,48) have mixed types. Specify dtype option on import or set low_memory=False.\n",
      "\n"
     ]
    },
    {
     "name": "stdout",
     "output_type": "stream",
     "text": [
      "6637 seconds: completed 7640000 rows\n",
      "6652 seconds: completed 7660000 rows\n"
     ]
    },
    {
     "name": "stderr",
     "output_type": "stream",
     "text": [
      "//anaconda/lib/python3.5/site-packages/IPython/core/interactiveshell.py:2717: DtypeWarning:\n",
      "\n",
      "Columns (17,40) have mixed types. Specify dtype option on import or set low_memory=False.\n",
      "\n"
     ]
    },
    {
     "name": "stdout",
     "output_type": "stream",
     "text": [
      "6666 seconds: completed 7680000 rows\n"
     ]
    },
    {
     "name": "stderr",
     "output_type": "stream",
     "text": [
      "//anaconda/lib/python3.5/site-packages/IPython/core/interactiveshell.py:2717: DtypeWarning:\n",
      "\n",
      "Columns (8,40,48) have mixed types. Specify dtype option on import or set low_memory=False.\n",
      "\n"
     ]
    },
    {
     "name": "stdout",
     "output_type": "stream",
     "text": [
      "6680 seconds: completed 7700000 rows\n",
      "6694 seconds: completed 7720000 rows\n"
     ]
    },
    {
     "name": "stderr",
     "output_type": "stream",
     "text": [
      "//anaconda/lib/python3.5/site-packages/IPython/core/interactiveshell.py:2717: DtypeWarning:\n",
      "\n",
      "Columns (8,17,40,48) have mixed types. Specify dtype option on import or set low_memory=False.\n",
      "\n"
     ]
    },
    {
     "name": "stdout",
     "output_type": "stream",
     "text": [
      "6708 seconds: completed 7740000 rows\n",
      "6724 seconds: completed 7760000 rows\n",
      "6739 seconds: completed 7780000 rows\n",
      "6753 seconds: completed 7800000 rows\n"
     ]
    },
    {
     "name": "stderr",
     "output_type": "stream",
     "text": [
      "//anaconda/lib/python3.5/site-packages/IPython/core/interactiveshell.py:2717: DtypeWarning:\n",
      "\n",
      "Columns (40,47) have mixed types. Specify dtype option on import or set low_memory=False.\n",
      "\n"
     ]
    },
    {
     "name": "stdout",
     "output_type": "stream",
     "text": [
      "6767 seconds: completed 7820000 rows\n",
      "6782 seconds: completed 7840000 rows\n"
     ]
    },
    {
     "name": "stderr",
     "output_type": "stream",
     "text": [
      "//anaconda/lib/python3.5/site-packages/IPython/core/interactiveshell.py:2717: DtypeWarning:\n",
      "\n",
      "Columns (40) have mixed types. Specify dtype option on import or set low_memory=False.\n",
      "\n"
     ]
    },
    {
     "name": "stdout",
     "output_type": "stream",
     "text": [
      "6796 seconds: completed 7860000 rows\n"
     ]
    },
    {
     "name": "stderr",
     "output_type": "stream",
     "text": [
      "//anaconda/lib/python3.5/site-packages/IPython/core/interactiveshell.py:2717: DtypeWarning:\n",
      "\n",
      "Columns (8,40,47) have mixed types. Specify dtype option on import or set low_memory=False.\n",
      "\n"
     ]
    },
    {
     "name": "stdout",
     "output_type": "stream",
     "text": [
      "6810 seconds: completed 7880000 rows\n",
      "6824 seconds: completed 7900000 rows\n",
      "6838 seconds: completed 7920000 rows\n",
      "6852 seconds: completed 7940000 rows\n",
      "6867 seconds: completed 7960000 rows\n",
      "6882 seconds: completed 7980000 rows\n",
      "6897 seconds: completed 8000000 rows\n",
      "6911 seconds: completed 8020000 rows\n",
      "6928 seconds: completed 8040000 rows\n"
     ]
    },
    {
     "name": "stderr",
     "output_type": "stream",
     "text": [
      "//anaconda/lib/python3.5/site-packages/IPython/core/interactiveshell.py:2717: DtypeWarning:\n",
      "\n",
      "Columns (8,47,48,49) have mixed types. Specify dtype option on import or set low_memory=False.\n",
      "\n"
     ]
    },
    {
     "name": "stdout",
     "output_type": "stream",
     "text": [
      "6942 seconds: completed 8060000 rows\n",
      "6957 seconds: completed 8080000 rows\n",
      "6973 seconds: completed 8100000 rows\n"
     ]
    },
    {
     "name": "stderr",
     "output_type": "stream",
     "text": [
      "//anaconda/lib/python3.5/site-packages/IPython/core/interactiveshell.py:2717: DtypeWarning:\n",
      "\n",
      "Columns (40,48) have mixed types. Specify dtype option on import or set low_memory=False.\n",
      "\n"
     ]
    },
    {
     "name": "stdout",
     "output_type": "stream",
     "text": [
      "6988 seconds: completed 8120000 rows\n",
      "7003 seconds: completed 8140000 rows\n"
     ]
    },
    {
     "name": "stderr",
     "output_type": "stream",
     "text": [
      "//anaconda/lib/python3.5/site-packages/IPython/core/interactiveshell.py:2717: DtypeWarning:\n",
      "\n",
      "Columns (17,40,48) have mixed types. Specify dtype option on import or set low_memory=False.\n",
      "\n"
     ]
    },
    {
     "name": "stdout",
     "output_type": "stream",
     "text": [
      "7019 seconds: completed 8160000 rows\n",
      "7034 seconds: completed 8180000 rows\n",
      "7049 seconds: completed 8200000 rows\n",
      "7063 seconds: completed 8220000 rows\n",
      "7077 seconds: completed 8240000 rows\n"
     ]
    },
    {
     "name": "stderr",
     "output_type": "stream",
     "text": [
      "//anaconda/lib/python3.5/site-packages/IPython/core/interactiveshell.py:2717: DtypeWarning:\n",
      "\n",
      "Columns (8,17,40,47) have mixed types. Specify dtype option on import or set low_memory=False.\n",
      "\n"
     ]
    },
    {
     "name": "stdout",
     "output_type": "stream",
     "text": [
      "7096 seconds: completed 8260000 rows\n"
     ]
    },
    {
     "name": "stderr",
     "output_type": "stream",
     "text": [
      "//anaconda/lib/python3.5/site-packages/IPython/core/interactiveshell.py:2717: DtypeWarning:\n",
      "\n",
      "Columns (8,17,41) have mixed types. Specify dtype option on import or set low_memory=False.\n",
      "\n"
     ]
    },
    {
     "name": "stdout",
     "output_type": "stream",
     "text": [
      "7111 seconds: completed 8280000 rows\n",
      "7128 seconds: completed 8300000 rows\n",
      "7142 seconds: completed 8320000 rows\n",
      "7156 seconds: completed 8340000 rows\n",
      "7172 seconds: completed 8360000 rows\n",
      "7186 seconds: completed 8380000 rows\n",
      "7202 seconds: completed 8400000 rows\n",
      "7218 seconds: completed 8420000 rows\n",
      "7232 seconds: completed 8440000 rows\n",
      "7246 seconds: completed 8460000 rows\n",
      "7260 seconds: completed 8480000 rows\n",
      "7275 seconds: completed 8500000 rows\n",
      "7290 seconds: completed 8520000 rows\n",
      "7304 seconds: completed 8540000 rows\n",
      "7318 seconds: completed 8560000 rows\n",
      "7334 seconds: completed 8580000 rows\n",
      "7348 seconds: completed 8600000 rows\n",
      "7362 seconds: completed 8620000 rows\n"
     ]
    },
    {
     "name": "stderr",
     "output_type": "stream",
     "text": [
      "//anaconda/lib/python3.5/site-packages/IPython/core/interactiveshell.py:2717: DtypeWarning:\n",
      "\n",
      "Columns (17,40,47) have mixed types. Specify dtype option on import or set low_memory=False.\n",
      "\n"
     ]
    },
    {
     "name": "stdout",
     "output_type": "stream",
     "text": [
      "7376 seconds: completed 8640000 rows\n",
      "7391 seconds: completed 8660000 rows\n",
      "7405 seconds: completed 8680000 rows\n"
     ]
    },
    {
     "name": "stderr",
     "output_type": "stream",
     "text": [
      "//anaconda/lib/python3.5/site-packages/IPython/core/interactiveshell.py:2717: DtypeWarning:\n",
      "\n",
      "Columns (8,17,40) have mixed types. Specify dtype option on import or set low_memory=False.\n",
      "\n"
     ]
    },
    {
     "name": "stdout",
     "output_type": "stream",
     "text": [
      "7419 seconds: completed 8700000 rows\n",
      "7433 seconds: completed 8720000 rows\n",
      "7447 seconds: completed 8740000 rows\n",
      "7462 seconds: completed 8760000 rows\n"
     ]
    },
    {
     "name": "stderr",
     "output_type": "stream",
     "text": [
      "//anaconda/lib/python3.5/site-packages/IPython/core/interactiveshell.py:2717: DtypeWarning:\n",
      "\n",
      "Columns (8,17,41,43,44,45,47,48) have mixed types. Specify dtype option on import or set low_memory=False.\n",
      "\n"
     ]
    },
    {
     "name": "stdout",
     "output_type": "stream",
     "text": [
      "7476 seconds: completed 8780000 rows\n"
     ]
    },
    {
     "name": "stderr",
     "output_type": "stream",
     "text": [
      "//anaconda/lib/python3.5/site-packages/IPython/core/interactiveshell.py:2717: DtypeWarning:\n",
      "\n",
      "Columns (17,43,44,45,48) have mixed types. Specify dtype option on import or set low_memory=False.\n",
      "\n"
     ]
    },
    {
     "name": "stdout",
     "output_type": "stream",
     "text": [
      "7490 seconds: completed 8800000 rows\n",
      "7504 seconds: completed 8820000 rows\n"
     ]
    },
    {
     "name": "stderr",
     "output_type": "stream",
     "text": [
      "//anaconda/lib/python3.5/site-packages/IPython/core/interactiveshell.py:2717: DtypeWarning:\n",
      "\n",
      "Columns (8,17,40,47,48) have mixed types. Specify dtype option on import or set low_memory=False.\n",
      "\n"
     ]
    },
    {
     "name": "stdout",
     "output_type": "stream",
     "text": [
      "7519 seconds: completed 8840000 rows\n",
      "7533 seconds: completed 8860000 rows\n",
      "7547 seconds: completed 8880000 rows\n",
      "7561 seconds: completed 8900000 rows\n",
      "7575 seconds: completed 8920000 rows\n",
      "7589 seconds: completed 8940000 rows\n",
      "7604 seconds: completed 8960000 rows\n",
      "7618 seconds: completed 8980000 rows\n",
      "7632 seconds: completed 9000000 rows\n",
      "7646 seconds: completed 9020000 rows\n"
     ]
    },
    {
     "name": "stderr",
     "output_type": "stream",
     "text": [
      "//anaconda/lib/python3.5/site-packages/IPython/core/interactiveshell.py:2717: DtypeWarning:\n",
      "\n",
      "Columns (17,40,47,48,49) have mixed types. Specify dtype option on import or set low_memory=False.\n",
      "\n"
     ]
    },
    {
     "name": "stdout",
     "output_type": "stream",
     "text": [
      "7660 seconds: completed 9040000 rows\n",
      "7674 seconds: completed 9060000 rows\n",
      "7688 seconds: completed 9080000 rows\n",
      "7702 seconds: completed 9100000 rows\n",
      "7716 seconds: completed 9120000 rows\n",
      "7731 seconds: completed 9140000 rows\n",
      "7745 seconds: completed 9160000 rows\n",
      "7759 seconds: completed 9180000 rows\n"
     ]
    },
    {
     "name": "stderr",
     "output_type": "stream",
     "text": [
      "//anaconda/lib/python3.5/site-packages/IPython/core/interactiveshell.py:2717: DtypeWarning:\n",
      "\n",
      "Columns (40,49) have mixed types. Specify dtype option on import or set low_memory=False.\n",
      "\n"
     ]
    },
    {
     "name": "stdout",
     "output_type": "stream",
     "text": [
      "7773 seconds: completed 9200000 rows\n",
      "7787 seconds: completed 9220000 rows\n",
      "7801 seconds: completed 9240000 rows\n"
     ]
    },
    {
     "name": "stderr",
     "output_type": "stream",
     "text": [
      "//anaconda/lib/python3.5/site-packages/IPython/core/interactiveshell.py:2717: DtypeWarning:\n",
      "\n",
      "Columns (8,17,47,48,49) have mixed types. Specify dtype option on import or set low_memory=False.\n",
      "\n"
     ]
    },
    {
     "name": "stdout",
     "output_type": "stream",
     "text": [
      "7815 seconds: completed 9260000 rows\n",
      "7829 seconds: completed 9280000 rows\n",
      "7844 seconds: completed 9300000 rows\n",
      "7860 seconds: completed 9320000 rows\n",
      "7874 seconds: completed 9340000 rows\n",
      "7889 seconds: completed 9360000 rows\n",
      "7904 seconds: completed 9380000 rows\n",
      "7918 seconds: completed 9400000 rows\n",
      "7932 seconds: completed 9420000 rows\n",
      "7946 seconds: completed 9440000 rows\n",
      "7962 seconds: completed 9460000 rows\n",
      "7976 seconds: completed 9480000 rows\n",
      "7991 seconds: completed 9500000 rows\n",
      "8006 seconds: completed 9520000 rows\n",
      "8023 seconds: completed 9540000 rows\n",
      "8038 seconds: completed 9560000 rows\n",
      "8053 seconds: completed 9580000 rows\n",
      "8068 seconds: completed 9600000 rows\n",
      "8083 seconds: completed 9620000 rows\n",
      "8098 seconds: completed 9640000 rows\n",
      "8113 seconds: completed 9660000 rows\n",
      "8128 seconds: completed 9680000 rows\n",
      "8143 seconds: completed 9700000 rows\n",
      "8158 seconds: completed 9720000 rows\n"
     ]
    },
    {
     "name": "stderr",
     "output_type": "stream",
     "text": [
      "//anaconda/lib/python3.5/site-packages/IPython/core/interactiveshell.py:2717: DtypeWarning:\n",
      "\n",
      "Columns (17,41) have mixed types. Specify dtype option on import or set low_memory=False.\n",
      "\n"
     ]
    },
    {
     "name": "stdout",
     "output_type": "stream",
     "text": [
      "8174 seconds: completed 9740000 rows\n",
      "8189 seconds: completed 9760000 rows\n",
      "8204 seconds: completed 9780000 rows\n",
      "8219 seconds: completed 9800000 rows\n",
      "8233 seconds: completed 9820000 rows\n",
      "8248 seconds: completed 9840000 rows\n",
      "8263 seconds: completed 9860000 rows\n",
      "8279 seconds: completed 9880000 rows\n",
      "8294 seconds: completed 9900000 rows\n",
      "8309 seconds: completed 9920000 rows\n",
      "8324 seconds: completed 9940000 rows\n",
      "8338 seconds: completed 9960000 rows\n",
      "8353 seconds: completed 9980000 rows\n",
      "8368 seconds: completed 10000000 rows\n"
     ]
    },
    {
     "name": "stderr",
     "output_type": "stream",
     "text": [
      "//anaconda/lib/python3.5/site-packages/IPython/core/interactiveshell.py:2717: DtypeWarning:\n",
      "\n",
      "Columns (8,17,47,48) have mixed types. Specify dtype option on import or set low_memory=False.\n",
      "\n"
     ]
    },
    {
     "name": "stdout",
     "output_type": "stream",
     "text": [
      "8383 seconds: completed 10020000 rows\n",
      "8398 seconds: completed 10040000 rows\n",
      "8414 seconds: completed 10060000 rows\n",
      "8429 seconds: completed 10080000 rows\n",
      "8444 seconds: completed 10100000 rows\n",
      "8458 seconds: completed 10120000 rows\n"
     ]
    },
    {
     "name": "stderr",
     "output_type": "stream",
     "text": [
      "//anaconda/lib/python3.5/site-packages/IPython/core/interactiveshell.py:2717: DtypeWarning:\n",
      "\n",
      "Columns (8,40,47,48) have mixed types. Specify dtype option on import or set low_memory=False.\n",
      "\n"
     ]
    },
    {
     "name": "stdout",
     "output_type": "stream",
     "text": [
      "8473 seconds: completed 10140000 rows\n",
      "8488 seconds: completed 10160000 rows\n",
      "8503 seconds: completed 10180000 rows\n",
      "8518 seconds: completed 10200000 rows\n",
      "8532 seconds: completed 10220000 rows\n",
      "8547 seconds: completed 10240000 rows\n"
     ]
    },
    {
     "name": "stderr",
     "output_type": "stream",
     "text": [
      "//anaconda/lib/python3.5/site-packages/IPython/core/interactiveshell.py:2717: DtypeWarning:\n",
      "\n",
      "Columns (17,40,47,48) have mixed types. Specify dtype option on import or set low_memory=False.\n",
      "\n"
     ]
    },
    {
     "name": "stdout",
     "output_type": "stream",
     "text": [
      "8562 seconds: completed 10260000 rows\n",
      "8577 seconds: completed 10280000 rows\n",
      "8592 seconds: completed 10300000 rows\n",
      "8606 seconds: completed 10320000 rows\n",
      "8621 seconds: completed 10340000 rows\n",
      "8636 seconds: completed 10360000 rows\n",
      "8651 seconds: completed 10380000 rows\n",
      "8666 seconds: completed 10400000 rows\n",
      "8680 seconds: completed 10420000 rows\n",
      "8695 seconds: completed 10440000 rows\n",
      "8711 seconds: completed 10460000 rows\n",
      "8726 seconds: completed 10480000 rows\n",
      "8740 seconds: completed 10500000 rows\n",
      "8757 seconds: completed 10520000 rows\n",
      "8772 seconds: completed 10540000 rows\n",
      "8787 seconds: completed 10560000 rows\n",
      "8801 seconds: completed 10580000 rows\n",
      "8816 seconds: completed 10600000 rows\n",
      "8831 seconds: completed 10620000 rows\n",
      "8846 seconds: completed 10640000 rows\n",
      "8861 seconds: completed 10660000 rows\n",
      "8876 seconds: completed 10680000 rows\n",
      "8891 seconds: completed 10700000 rows\n",
      "8906 seconds: completed 10720000 rows\n"
     ]
    },
    {
     "name": "stderr",
     "output_type": "stream",
     "text": [
      "//anaconda/lib/python3.5/site-packages/IPython/core/interactiveshell.py:2717: DtypeWarning:\n",
      "\n",
      "Columns (41,47) have mixed types. Specify dtype option on import or set low_memory=False.\n",
      "\n"
     ]
    },
    {
     "name": "stdout",
     "output_type": "stream",
     "text": [
      "8921 seconds: completed 10740000 rows\n",
      "8936 seconds: completed 10760000 rows\n",
      "8951 seconds: completed 10780000 rows\n",
      "8966 seconds: completed 10800000 rows\n",
      "8981 seconds: completed 10820000 rows\n"
     ]
    },
    {
     "name": "stderr",
     "output_type": "stream",
     "text": [
      "//anaconda/lib/python3.5/site-packages/IPython/core/interactiveshell.py:2717: DtypeWarning:\n",
      "\n",
      "Columns (8,41,48,49) have mixed types. Specify dtype option on import or set low_memory=False.\n",
      "\n"
     ]
    },
    {
     "name": "stdout",
     "output_type": "stream",
     "text": [
      "8996 seconds: completed 10840000 rows\n",
      "9011 seconds: completed 10860000 rows\n",
      "9026 seconds: completed 10880000 rows\n",
      "9042 seconds: completed 10900000 rows\n",
      "9057 seconds: completed 10920000 rows\n",
      "9072 seconds: completed 10940000 rows\n",
      "9087 seconds: completed 10960000 rows\n",
      "9101 seconds: completed 10980000 rows\n",
      "9116 seconds: completed 11000000 rows\n",
      "9131 seconds: completed 11020000 rows\n",
      "9149 seconds: completed 11040000 rows\n",
      "9164 seconds: completed 11060000 rows\n",
      "9179 seconds: completed 11080000 rows\n",
      "9194 seconds: completed 11100000 rows\n",
      "9209 seconds: completed 11120000 rows\n",
      "9224 seconds: completed 11140000 rows\n"
     ]
    },
    {
     "name": "stderr",
     "output_type": "stream",
     "text": [
      "//anaconda/lib/python3.5/site-packages/IPython/core/interactiveshell.py:2717: DtypeWarning:\n",
      "\n",
      "Columns (17,40,41,47,48) have mixed types. Specify dtype option on import or set low_memory=False.\n",
      "\n"
     ]
    },
    {
     "name": "stdout",
     "output_type": "stream",
     "text": [
      "9239 seconds: completed 11160000 rows\n",
      "9254 seconds: completed 11180000 rows\n",
      "9269 seconds: completed 11200000 rows\n"
     ]
    },
    {
     "name": "stderr",
     "output_type": "stream",
     "text": [
      "//anaconda/lib/python3.5/site-packages/IPython/core/interactiveshell.py:2717: DtypeWarning:\n",
      "\n",
      "Columns (8,40,47,48,49) have mixed types. Specify dtype option on import or set low_memory=False.\n",
      "\n"
     ]
    },
    {
     "name": "stdout",
     "output_type": "stream",
     "text": [
      "9283 seconds: completed 11220000 rows\n"
     ]
    },
    {
     "name": "stderr",
     "output_type": "stream",
     "text": [
      "//anaconda/lib/python3.5/site-packages/IPython/core/interactiveshell.py:2717: DtypeWarning:\n",
      "\n",
      "Columns (17,41,47) have mixed types. Specify dtype option on import or set low_memory=False.\n",
      "\n"
     ]
    },
    {
     "name": "stdout",
     "output_type": "stream",
     "text": [
      "9298 seconds: completed 11240000 rows\n",
      "9313 seconds: completed 11260000 rows\n",
      "9328 seconds: completed 11280000 rows\n",
      "9343 seconds: completed 11300000 rows\n",
      "9358 seconds: completed 11320000 rows\n",
      "9373 seconds: completed 11340000 rows\n",
      "9388 seconds: completed 11360000 rows\n",
      "9403 seconds: completed 11380000 rows\n",
      "9418 seconds: completed 11400000 rows\n"
     ]
    },
    {
     "name": "stderr",
     "output_type": "stream",
     "text": [
      "//anaconda/lib/python3.5/site-packages/IPython/core/interactiveshell.py:2717: DtypeWarning:\n",
      "\n",
      "Columns (8,17,40,47,48,49) have mixed types. Specify dtype option on import or set low_memory=False.\n",
      "\n"
     ]
    },
    {
     "name": "stdout",
     "output_type": "stream",
     "text": [
      "9433 seconds: completed 11420000 rows\n",
      "9450 seconds: completed 11440000 rows\n",
      "9464 seconds: completed 11460000 rows\n",
      "9479 seconds: completed 11480000 rows\n",
      "9494 seconds: completed 11500000 rows\n",
      "9509 seconds: completed 11520000 rows\n",
      "9524 seconds: completed 11540000 rows\n",
      "9539 seconds: completed 11560000 rows\n",
      "9553 seconds: completed 11580000 rows\n",
      "9568 seconds: completed 11600000 rows\n",
      "9583 seconds: completed 11620000 rows\n",
      "9598 seconds: completed 11640000 rows\n",
      "9613 seconds: completed 11660000 rows\n",
      "9629 seconds: completed 11680000 rows\n",
      "9645 seconds: completed 11700000 rows\n",
      "9660 seconds: completed 11720000 rows\n"
     ]
    },
    {
     "name": "stderr",
     "output_type": "stream",
     "text": [
      "//anaconda/lib/python3.5/site-packages/IPython/core/interactiveshell.py:2717: DtypeWarning:\n",
      "\n",
      "Columns (17,48,49) have mixed types. Specify dtype option on import or set low_memory=False.\n",
      "\n"
     ]
    },
    {
     "name": "stdout",
     "output_type": "stream",
     "text": [
      "9675 seconds: completed 11740000 rows\n",
      "9690 seconds: completed 11760000 rows\n",
      "9704 seconds: completed 11780000 rows\n",
      "9719 seconds: completed 11800000 rows\n",
      "9734 seconds: completed 11820000 rows\n",
      "9748 seconds: completed 11840000 rows\n",
      "9763 seconds: completed 11860000 rows\n",
      "9777 seconds: completed 11880000 rows\n",
      "9792 seconds: completed 11900000 rows\n",
      "9807 seconds: completed 11920000 rows\n",
      "9821 seconds: completed 11940000 rows\n",
      "9836 seconds: completed 11960000 rows\n",
      "9851 seconds: completed 11980000 rows\n",
      "9865 seconds: completed 12000000 rows\n",
      "9880 seconds: completed 12020000 rows\n",
      "9895 seconds: completed 12040000 rows\n",
      "9909 seconds: completed 12060000 rows\n",
      "9924 seconds: completed 12080000 rows\n",
      "9939 seconds: completed 12100000 rows\n",
      "9953 seconds: completed 12120000 rows\n",
      "9968 seconds: completed 12140000 rows\n",
      "9983 seconds: completed 12160000 rows\n",
      "9997 seconds: completed 12180000 rows\n",
      "10012 seconds: completed 12200000 rows\n",
      "10027 seconds: completed 12220000 rows\n",
      "10042 seconds: completed 12240000 rows\n",
      "10056 seconds: completed 12260000 rows\n",
      "10071 seconds: completed 12280000 rows\n",
      "10086 seconds: completed 12300000 rows\n",
      "10101 seconds: completed 12320000 rows\n",
      "10117 seconds: completed 12340000 rows\n",
      "10132 seconds: completed 12360000 rows\n",
      "10147 seconds: completed 12380000 rows\n",
      "10161 seconds: completed 12400000 rows\n",
      "10176 seconds: completed 12420000 rows\n",
      "10190 seconds: completed 12440000 rows\n",
      "10205 seconds: completed 12460000 rows\n",
      "10219 seconds: completed 12480000 rows\n",
      "10234 seconds: completed 12500000 rows\n"
     ]
    },
    {
     "name": "stderr",
     "output_type": "stream",
     "text": [
      "//anaconda/lib/python3.5/site-packages/IPython/core/interactiveshell.py:2717: DtypeWarning:\n",
      "\n",
      "Columns (8,17,43,44,45,47,48,49) have mixed types. Specify dtype option on import or set low_memory=False.\n",
      "\n"
     ]
    },
    {
     "name": "stdout",
     "output_type": "stream",
     "text": [
      "10248 seconds: completed 12520000 rows\n",
      "10263 seconds: completed 12540000 rows\n",
      "10278 seconds: completed 12560000 rows\n"
     ]
    },
    {
     "name": "stderr",
     "output_type": "stream",
     "text": [
      "//anaconda/lib/python3.5/site-packages/IPython/core/interactiveshell.py:2717: DtypeWarning:\n",
      "\n",
      "Columns (43,44,45,47) have mixed types. Specify dtype option on import or set low_memory=False.\n",
      "\n"
     ]
    },
    {
     "name": "stdout",
     "output_type": "stream",
     "text": [
      "10293 seconds: completed 12580000 rows\n",
      "10307 seconds: completed 12600000 rows\n",
      "10322 seconds: completed 12620000 rows\n"
     ]
    },
    {
     "name": "stderr",
     "output_type": "stream",
     "text": [
      "//anaconda/lib/python3.5/site-packages/IPython/core/interactiveshell.py:2717: DtypeWarning:\n",
      "\n",
      "Columns (8,17,40,41,43,44,45,47,48,49) have mixed types. Specify dtype option on import or set low_memory=False.\n",
      "\n"
     ]
    },
    {
     "name": "stdout",
     "output_type": "stream",
     "text": [
      "10337 seconds: completed 12640000 rows\n",
      "10351 seconds: completed 12660000 rows\n"
     ]
    },
    {
     "name": "stderr",
     "output_type": "stream",
     "text": [
      "//anaconda/lib/python3.5/site-packages/IPython/core/interactiveshell.py:2717: DtypeWarning:\n",
      "\n",
      "Columns (8,39,40) have mixed types. Specify dtype option on import or set low_memory=False.\n",
      "\n"
     ]
    },
    {
     "name": "stdout",
     "output_type": "stream",
     "text": [
      "10366 seconds: completed 12680000 rows\n"
     ]
    },
    {
     "name": "stderr",
     "output_type": "stream",
     "text": [
      "//anaconda/lib/python3.5/site-packages/IPython/core/interactiveshell.py:2717: DtypeWarning:\n",
      "\n",
      "Columns (17,39,47,48,49) have mixed types. Specify dtype option on import or set low_memory=False.\n",
      "\n"
     ]
    },
    {
     "name": "stdout",
     "output_type": "stream",
     "text": [
      "10380 seconds: completed 12700000 rows\n",
      "10395 seconds: completed 12720000 rows\n",
      "10410 seconds: completed 12740000 rows\n"
     ]
    },
    {
     "name": "stderr",
     "output_type": "stream",
     "text": [
      "//anaconda/lib/python3.5/site-packages/IPython/core/interactiveshell.py:2717: DtypeWarning:\n",
      "\n",
      "Columns (8,17,39,40) have mixed types. Specify dtype option on import or set low_memory=False.\n",
      "\n"
     ]
    },
    {
     "name": "stdout",
     "output_type": "stream",
     "text": [
      "10424 seconds: completed 12760000 rows\n"
     ]
    },
    {
     "name": "stderr",
     "output_type": "stream",
     "text": [
      "//anaconda/lib/python3.5/site-packages/IPython/core/interactiveshell.py:2717: DtypeWarning:\n",
      "\n",
      "Columns (40,41,47,48,49) have mixed types. Specify dtype option on import or set low_memory=False.\n",
      "\n"
     ]
    },
    {
     "name": "stdout",
     "output_type": "stream",
     "text": [
      "10439 seconds: completed 12780000 rows\n",
      "10453 seconds: completed 12800000 rows\n",
      "10468 seconds: completed 12820000 rows\n",
      "10483 seconds: completed 12840000 rows\n",
      "10497 seconds: completed 12860000 rows\n",
      "10512 seconds: completed 12880000 rows\n",
      "10526 seconds: completed 12900000 rows\n",
      "10540 seconds: completed 12920000 rows\n"
     ]
    },
    {
     "name": "stderr",
     "output_type": "stream",
     "text": [
      "//anaconda/lib/python3.5/site-packages/IPython/core/interactiveshell.py:2717: DtypeWarning:\n",
      "\n",
      "Columns (8,17,41,43,44,45,46,47,48,49) have mixed types. Specify dtype option on import or set low_memory=False.\n",
      "\n"
     ]
    },
    {
     "name": "stdout",
     "output_type": "stream",
     "text": [
      "10555 seconds: completed 12940000 rows\n"
     ]
    },
    {
     "name": "stderr",
     "output_type": "stream",
     "text": [
      "//anaconda/lib/python3.5/site-packages/IPython/core/interactiveshell.py:2717: DtypeWarning:\n",
      "\n",
      "Columns (43,44,45,46,47,48) have mixed types. Specify dtype option on import or set low_memory=False.\n",
      "\n"
     ]
    },
    {
     "name": "stdout",
     "output_type": "stream",
     "text": [
      "10570 seconds: completed 12960000 rows\n"
     ]
    },
    {
     "name": "stderr",
     "output_type": "stream",
     "text": [
      "//anaconda/lib/python3.5/site-packages/IPython/core/interactiveshell.py:2717: DtypeWarning:\n",
      "\n",
      "Columns (40,43,44,45,46,49) have mixed types. Specify dtype option on import or set low_memory=False.\n",
      "\n"
     ]
    },
    {
     "name": "stdout",
     "output_type": "stream",
     "text": [
      "10587 seconds: completed 12980000 rows\n"
     ]
    },
    {
     "name": "stderr",
     "output_type": "stream",
     "text": [
      "//anaconda/lib/python3.5/site-packages/IPython/core/interactiveshell.py:2717: DtypeWarning:\n",
      "\n",
      "Columns (8,17,41,42,43,44,45,46,47,48,49) have mixed types. Specify dtype option on import or set low_memory=False.\n",
      "\n"
     ]
    },
    {
     "name": "stdout",
     "output_type": "stream",
     "text": [
      "10602 seconds: completed 13000000 rows\n",
      "10617 seconds: completed 13020000 rows\n",
      "10632 seconds: completed 13040000 rows\n"
     ]
    },
    {
     "name": "stderr",
     "output_type": "stream",
     "text": [
      "//anaconda/lib/python3.5/site-packages/IPython/core/interactiveshell.py:2717: DtypeWarning:\n",
      "\n",
      "Columns (17,41,43,44,45,47,48) have mixed types. Specify dtype option on import or set low_memory=False.\n",
      "\n"
     ]
    },
    {
     "name": "stdout",
     "output_type": "stream",
     "text": [
      "10646 seconds: completed 13060000 rows\n",
      "10659 seconds: completed 13080000 rows\n",
      "10672 seconds: completed 13100000 rows\n",
      "10684 seconds: completed 13120000 rows\n"
     ]
    },
    {
     "name": "stderr",
     "output_type": "stream",
     "text": [
      "//anaconda/lib/python3.5/site-packages/IPython/core/interactiveshell.py:2717: DtypeWarning:\n",
      "\n",
      "Columns (8,17,41,42,47,48,49) have mixed types. Specify dtype option on import or set low_memory=False.\n",
      "\n"
     ]
    },
    {
     "name": "stdout",
     "output_type": "stream",
     "text": [
      "10699 seconds: completed 13140000 rows\n"
     ]
    },
    {
     "name": "stderr",
     "output_type": "stream",
     "text": [
      "//anaconda/lib/python3.5/site-packages/IPython/core/interactiveshell.py:2717: DtypeWarning:\n",
      "\n",
      "Columns (41,42,43,44,45,46,48,49) have mixed types. Specify dtype option on import or set low_memory=False.\n",
      "\n"
     ]
    },
    {
     "name": "stdout",
     "output_type": "stream",
     "text": [
      "10714 seconds: completed 13160000 rows\n"
     ]
    },
    {
     "name": "stderr",
     "output_type": "stream",
     "text": [
      "//anaconda/lib/python3.5/site-packages/IPython/core/interactiveshell.py:2717: DtypeWarning:\n",
      "\n",
      "Columns (42,48) have mixed types. Specify dtype option on import or set low_memory=False.\n",
      "\n"
     ]
    },
    {
     "name": "stdout",
     "output_type": "stream",
     "text": [
      "10731 seconds: completed 13180000 rows\n",
      "10746 seconds: completed 13200000 rows\n"
     ]
    },
    {
     "name": "stderr",
     "output_type": "stream",
     "text": [
      "//anaconda/lib/python3.5/site-packages/IPython/core/interactiveshell.py:2717: DtypeWarning:\n",
      "\n",
      "Columns (42,43,44,48) have mixed types. Specify dtype option on import or set low_memory=False.\n",
      "\n"
     ]
    },
    {
     "name": "stdout",
     "output_type": "stream",
     "text": [
      "10761 seconds: completed 13220000 rows\n"
     ]
    },
    {
     "name": "stderr",
     "output_type": "stream",
     "text": [
      "//anaconda/lib/python3.5/site-packages/IPython/core/interactiveshell.py:2717: DtypeWarning:\n",
      "\n",
      "Columns (42,43,44,45,46,47) have mixed types. Specify dtype option on import or set low_memory=False.\n",
      "\n"
     ]
    },
    {
     "name": "stdout",
     "output_type": "stream",
     "text": [
      "10776 seconds: completed 13240000 rows\n"
     ]
    },
    {
     "name": "stderr",
     "output_type": "stream",
     "text": [
      "//anaconda/lib/python3.5/site-packages/IPython/core/interactiveshell.py:2717: DtypeWarning:\n",
      "\n",
      "Columns (41,42,48) have mixed types. Specify dtype option on import or set low_memory=False.\n",
      "\n"
     ]
    },
    {
     "name": "stdout",
     "output_type": "stream",
     "text": [
      "10793 seconds: completed 13260000 rows\n"
     ]
    },
    {
     "name": "stderr",
     "output_type": "stream",
     "text": [
      "//anaconda/lib/python3.5/site-packages/IPython/core/interactiveshell.py:2717: DtypeWarning:\n",
      "\n",
      "Columns (41,43,44,45,46,49) have mixed types. Specify dtype option on import or set low_memory=False.\n",
      "\n"
     ]
    },
    {
     "name": "stdout",
     "output_type": "stream",
     "text": [
      "10808 seconds: completed 13280000 rows\n"
     ]
    },
    {
     "name": "stderr",
     "output_type": "stream",
     "text": [
      "//anaconda/lib/python3.5/site-packages/IPython/core/interactiveshell.py:2717: DtypeWarning:\n",
      "\n",
      "Columns (41,42,47,48,49) have mixed types. Specify dtype option on import or set low_memory=False.\n",
      "\n"
     ]
    },
    {
     "name": "stdout",
     "output_type": "stream",
     "text": [
      "10823 seconds: completed 13300000 rows\n"
     ]
    },
    {
     "name": "stderr",
     "output_type": "stream",
     "text": [
      "//anaconda/lib/python3.5/site-packages/IPython/core/interactiveshell.py:2717: DtypeWarning:\n",
      "\n",
      "Columns (42,46) have mixed types. Specify dtype option on import or set low_memory=False.\n",
      "\n"
     ]
    },
    {
     "name": "stdout",
     "output_type": "stream",
     "text": [
      "10838 seconds: completed 13320000 rows\n",
      "10855 seconds: completed 13340000 rows\n"
     ]
    },
    {
     "name": "stderr",
     "output_type": "stream",
     "text": [
      "//anaconda/lib/python3.5/site-packages/IPython/core/interactiveshell.py:2717: DtypeWarning:\n",
      "\n",
      "Columns (17,40,41,43,44,45) have mixed types. Specify dtype option on import or set low_memory=False.\n",
      "\n"
     ]
    },
    {
     "name": "stdout",
     "output_type": "stream",
     "text": [
      "10870 seconds: completed 13360000 rows\n"
     ]
    },
    {
     "name": "stderr",
     "output_type": "stream",
     "text": [
      "//anaconda/lib/python3.5/site-packages/IPython/core/interactiveshell.py:2717: DtypeWarning:\n",
      "\n",
      "Columns (8,17,41,48) have mixed types. Specify dtype option on import or set low_memory=False.\n",
      "\n"
     ]
    },
    {
     "name": "stdout",
     "output_type": "stream",
     "text": [
      "10885 seconds: completed 13380000 rows\n",
      "10902 seconds: completed 13400000 rows\n",
      "10919 seconds: completed 13420000 rows\n"
     ]
    },
    {
     "name": "stderr",
     "output_type": "stream",
     "text": [
      "//anaconda/lib/python3.5/site-packages/IPython/core/interactiveshell.py:2717: DtypeWarning:\n",
      "\n",
      "Columns (17,41,42,43,44,45,46,48,49) have mixed types. Specify dtype option on import or set low_memory=False.\n",
      "\n"
     ]
    },
    {
     "name": "stdout",
     "output_type": "stream",
     "text": [
      "10934 seconds: completed 13440000 rows\n",
      "10949 seconds: completed 13460000 rows\n"
     ]
    },
    {
     "name": "stderr",
     "output_type": "stream",
     "text": [
      "//anaconda/lib/python3.5/site-packages/IPython/core/interactiveshell.py:2717: DtypeWarning:\n",
      "\n",
      "Columns (42,43,44,45,46,49) have mixed types. Specify dtype option on import or set low_memory=False.\n",
      "\n"
     ]
    },
    {
     "name": "stdout",
     "output_type": "stream",
     "text": [
      "10965 seconds: completed 13480000 rows\n"
     ]
    },
    {
     "name": "stderr",
     "output_type": "stream",
     "text": [
      "//anaconda/lib/python3.5/site-packages/IPython/core/interactiveshell.py:2717: DtypeWarning:\n",
      "\n",
      "Columns (42,43,44,45,48,49) have mixed types. Specify dtype option on import or set low_memory=False.\n",
      "\n"
     ]
    },
    {
     "name": "stdout",
     "output_type": "stream",
     "text": [
      "10980 seconds: completed 13500000 rows\n"
     ]
    },
    {
     "name": "stderr",
     "output_type": "stream",
     "text": [
      "//anaconda/lib/python3.5/site-packages/IPython/core/interactiveshell.py:2717: DtypeWarning:\n",
      "\n",
      "Columns (46,49) have mixed types. Specify dtype option on import or set low_memory=False.\n",
      "\n"
     ]
    },
    {
     "name": "stdout",
     "output_type": "stream",
     "text": [
      "10995 seconds: completed 13520000 rows\n",
      "11011 seconds: completed 13540000 rows\n"
     ]
    },
    {
     "name": "stderr",
     "output_type": "stream",
     "text": [
      "//anaconda/lib/python3.5/site-packages/IPython/core/interactiveshell.py:2717: DtypeWarning:\n",
      "\n",
      "Columns (42,49) have mixed types. Specify dtype option on import or set low_memory=False.\n",
      "\n"
     ]
    },
    {
     "name": "stdout",
     "output_type": "stream",
     "text": [
      "11030 seconds: completed 13560000 rows\n"
     ]
    },
    {
     "name": "stderr",
     "output_type": "stream",
     "text": [
      "//anaconda/lib/python3.5/site-packages/IPython/core/interactiveshell.py:2717: DtypeWarning:\n",
      "\n",
      "Columns (42,43,44,45,46,48,49) have mixed types. Specify dtype option on import or set low_memory=False.\n",
      "\n"
     ]
    },
    {
     "name": "stdout",
     "output_type": "stream",
     "text": [
      "11046 seconds: completed 13580000 rows\n"
     ]
    },
    {
     "name": "stderr",
     "output_type": "stream",
     "text": [
      "//anaconda/lib/python3.5/site-packages/IPython/core/interactiveshell.py:2717: DtypeWarning:\n",
      "\n",
      "Columns (43,44,45,46,48,49) have mixed types. Specify dtype option on import or set low_memory=False.\n",
      "\n"
     ]
    },
    {
     "name": "stdout",
     "output_type": "stream",
     "text": [
      "11061 seconds: completed 13600000 rows\n",
      "11077 seconds: completed 13620000 rows\n",
      "11091 seconds: completed 13640000 rows\n",
      "11107 seconds: completed 13660000 rows\n",
      "11122 seconds: completed 13680000 rows\n"
     ]
    },
    {
     "name": "stderr",
     "output_type": "stream",
     "text": [
      "//anaconda/lib/python3.5/site-packages/IPython/core/interactiveshell.py:2717: DtypeWarning:\n",
      "\n",
      "Columns (43,44,45,46,48) have mixed types. Specify dtype option on import or set low_memory=False.\n",
      "\n"
     ]
    },
    {
     "name": "stdout",
     "output_type": "stream",
     "text": [
      "11137 seconds: completed 13700000 rows\n",
      "11154 seconds: completed 13720000 rows\n",
      "11169 seconds: completed 13740000 rows\n"
     ]
    },
    {
     "name": "stderr",
     "output_type": "stream",
     "text": [
      "//anaconda/lib/python3.5/site-packages/IPython/core/interactiveshell.py:2717: DtypeWarning:\n",
      "\n",
      "Columns (8,42,43,44,45,46) have mixed types. Specify dtype option on import or set low_memory=False.\n",
      "\n"
     ]
    },
    {
     "name": "stdout",
     "output_type": "stream",
     "text": [
      "11185 seconds: completed 13760000 rows\n",
      "11203 seconds: completed 13780000 rows\n",
      "11218 seconds: completed 13800000 rows\n",
      "11233 seconds: completed 13820000 rows\n"
     ]
    },
    {
     "name": "stderr",
     "output_type": "stream",
     "text": [
      "//anaconda/lib/python3.5/site-packages/IPython/core/interactiveshell.py:2717: DtypeWarning:\n",
      "\n",
      "Columns (40,41,47,48) have mixed types. Specify dtype option on import or set low_memory=False.\n",
      "\n"
     ]
    },
    {
     "name": "stdout",
     "output_type": "stream",
     "text": [
      "11249 seconds: completed 13840000 rows\n",
      "11266 seconds: completed 13860000 rows\n"
     ]
    },
    {
     "name": "stderr",
     "output_type": "stream",
     "text": [
      "//anaconda/lib/python3.5/site-packages/IPython/core/interactiveshell.py:2717: DtypeWarning:\n",
      "\n",
      "Columns (17,40,41,42,43,44,45,46,48,49) have mixed types. Specify dtype option on import or set low_memory=False.\n",
      "\n"
     ]
    },
    {
     "name": "stdout",
     "output_type": "stream",
     "text": [
      "11281 seconds: completed 13880000 rows\n",
      "11296 seconds: completed 13900000 rows\n"
     ]
    },
    {
     "name": "stderr",
     "output_type": "stream",
     "text": [
      "//anaconda/lib/python3.5/site-packages/IPython/core/interactiveshell.py:2717: DtypeWarning:\n",
      "\n",
      "Columns (42,43,44,45,46) have mixed types. Specify dtype option on import or set low_memory=False.\n",
      "\n"
     ]
    },
    {
     "name": "stdout",
     "output_type": "stream",
     "text": [
      "11311 seconds: completed 13920000 rows\n",
      "11326 seconds: completed 13940000 rows\n"
     ]
    },
    {
     "name": "stderr",
     "output_type": "stream",
     "text": [
      "//anaconda/lib/python3.5/site-packages/IPython/core/interactiveshell.py:2717: DtypeWarning:\n",
      "\n",
      "Columns (46) have mixed types. Specify dtype option on import or set low_memory=False.\n",
      "\n"
     ]
    },
    {
     "name": "stdout",
     "output_type": "stream",
     "text": [
      "11342 seconds: completed 13960000 rows\n",
      "11354 seconds: completed 13980000 rows\n"
     ]
    }
   ],
   "source": [
    "start = dt.datetime.now()\n",
    "chunksize = 20000\n",
    "j = 0\n",
    "index_start = 1\n",
    "\n",
    "for df in pd.read_csv('/Users/juhi/Downloads/311_Service_Requests_from_2010_to_Present.csv.crdownload', chunksize=chunksize, iterator=True, encoding='utf-8'):\n",
    "    \n",
    "    df = df.rename(columns={c: c.replace(' ', '') for c in df.columns}) # Remove spaces from columns\n",
    "\n",
    "    df['CreatedDate'] = pd.to_datetime(df['CreatedDate']) # Convert to datetimes\n",
    "    df['ClosedDate'] = pd.to_datetime(df['ClosedDate'])\n",
    "\n",
    "    df.index += index_start\n",
    "\n",
    "    # Remove the un-interesting columns\n",
    "    columns = ['Agency', 'CreatedDate', 'ClosedDate', 'ComplaintType', 'Descriptor',\n",
    "               'CreatedDate', 'ClosedDate', 'TimeToCompletion',\n",
    "               'City']\n",
    "    \n",
    "    for c in df.columns:\n",
    "        if c not in columns:\n",
    "            df = df.drop(c, axis=1)    \n",
    "    \n",
    "    j+=1\n",
    "    \n",
    "    print ('{} seconds: completed {} rows'.format((dt.datetime.now()-start).seconds, j*chunksize))\n",
    "\n",
    "    df.to_sql('data', disk_engine, if_exists='append')\n",
    "    index_start = df.index[-1] + 1"
   ]
  },
  {
   "cell_type": "code",
   "execution_count": 12,
   "metadata": {
    "collapsed": false,
    "scrolled": true
   },
   "outputs": [
    {
     "data": {
      "text/html": [
       "<div>\n",
       "<table border=\"1\" class=\"dataframe\">\n",
       "  <thead>\n",
       "    <tr style=\"text-align: right;\">\n",
       "      <th></th>\n",
       "      <th>index</th>\n",
       "      <th>CreatedDate</th>\n",
       "      <th>ClosedDate</th>\n",
       "      <th>Agency</th>\n",
       "      <th>ComplaintType</th>\n",
       "      <th>Descriptor</th>\n",
       "      <th>City</th>\n",
       "    </tr>\n",
       "  </thead>\n",
       "  <tbody>\n",
       "    <tr>\n",
       "      <th>0</th>\n",
       "      <td>1</td>\n",
       "      <td>2016-08-20 11:27:00.000000</td>\n",
       "      <td>2016-09-01 12:00:00.000000</td>\n",
       "      <td>DSNY</td>\n",
       "      <td>Recycling Enforcement</td>\n",
       "      <td>ER5 Comm. Recyc. (Bldg Mgmt)</td>\n",
       "      <td>NEW YORK</td>\n",
       "    </tr>\n",
       "    <tr>\n",
       "      <th>1</th>\n",
       "      <td>2</td>\n",
       "      <td>2013-07-20 06:12:00.000000</td>\n",
       "      <td>2013-07-20 06:12:00.000000</td>\n",
       "      <td>DEP</td>\n",
       "      <td>Water System</td>\n",
       "      <td>Fire Hydrant Emergency (FHE)</td>\n",
       "      <td>BRONX</td>\n",
       "    </tr>\n",
       "    <tr>\n",
       "      <th>2</th>\n",
       "      <td>3</td>\n",
       "      <td>2013-07-20 05:49:00.000000</td>\n",
       "      <td>2013-07-20 05:50:00.000000</td>\n",
       "      <td>DEP</td>\n",
       "      <td>Water System</td>\n",
       "      <td>Fire Hydrant Emergency (FHE)</td>\n",
       "      <td>BRONX</td>\n",
       "    </tr>\n",
       "  </tbody>\n",
       "</table>\n",
       "</div>"
      ],
      "text/plain": [
       "   index                 CreatedDate                  ClosedDate Agency  \\\n",
       "0      1  2016-08-20 11:27:00.000000  2016-09-01 12:00:00.000000   DSNY   \n",
       "1      2  2013-07-20 06:12:00.000000  2013-07-20 06:12:00.000000    DEP   \n",
       "2      3  2013-07-20 05:49:00.000000  2013-07-20 05:50:00.000000    DEP   \n",
       "\n",
       "           ComplaintType                    Descriptor      City  \n",
       "0  Recycling Enforcement  ER5 Comm. Recyc. (Bldg Mgmt)  NEW YORK  \n",
       "1           Water System  Fire Hydrant Emergency (FHE)     BRONX  \n",
       "2           Water System  Fire Hydrant Emergency (FHE)     BRONX  "
      ]
     },
     "execution_count": 12,
     "metadata": {},
     "output_type": "execute_result"
    }
   ],
   "source": [
    "# displaying head (first 3 rows) of modified data using SQL select statement\n",
    "df = pd.read_sql_query('SELECT * FROM data LIMIT 3', disk_engine)\n",
    "df.head()"
   ]
  },
  {
   "cell_type": "code",
   "execution_count": 13,
   "metadata": {
    "collapsed": false
   },
   "outputs": [
    {
     "data": {
      "text/html": [
       "<div>\n",
       "<table border=\"1\" class=\"dataframe\">\n",
       "  <thead>\n",
       "    <tr style=\"text-align: right;\">\n",
       "      <th></th>\n",
       "      <th>Agency</th>\n",
       "      <th>Descriptor</th>\n",
       "    </tr>\n",
       "  </thead>\n",
       "  <tbody>\n",
       "    <tr>\n",
       "      <th>0</th>\n",
       "      <td>DSNY</td>\n",
       "      <td>ER5 Comm. Recyc. (Bldg Mgmt)</td>\n",
       "    </tr>\n",
       "    <tr>\n",
       "      <th>1</th>\n",
       "      <td>DEP</td>\n",
       "      <td>Fire Hydrant Emergency (FHE)</td>\n",
       "    </tr>\n",
       "    <tr>\n",
       "      <th>2</th>\n",
       "      <td>DEP</td>\n",
       "      <td>Fire Hydrant Emergency (FHE)</td>\n",
       "    </tr>\n",
       "  </tbody>\n",
       "</table>\n",
       "</div>"
      ],
      "text/plain": [
       "  Agency                    Descriptor\n",
       "0   DSNY  ER5 Comm. Recyc. (Bldg Mgmt)\n",
       "1    DEP  Fire Hydrant Emergency (FHE)\n",
       "2    DEP  Fire Hydrant Emergency (FHE)"
      ]
     },
     "execution_count": 13,
     "metadata": {},
     "output_type": "execute_result"
    }
   ],
   "source": [
    "# displaying head for two columns (agency, descriptor) using SQL select statement  \n",
    "df = pd.read_sql_query('SELECT Agency, Descriptor FROM data LIMIT 3', disk_engine)\n",
    "df.head()"
   ]
  },
  {
   "cell_type": "code",
   "execution_count": 14,
   "metadata": {
    "collapsed": false
   },
   "outputs": [
    {
     "data": {
      "text/html": [
       "<div>\n",
       "<table border=\"1\" class=\"dataframe\">\n",
       "  <thead>\n",
       "    <tr style=\"text-align: right;\">\n",
       "      <th></th>\n",
       "      <th>ComplaintType</th>\n",
       "      <th>Descriptor</th>\n",
       "      <th>Agency</th>\n",
       "    </tr>\n",
       "  </thead>\n",
       "  <tbody>\n",
       "    <tr>\n",
       "      <th>0</th>\n",
       "      <td>Recycling Enforcement</td>\n",
       "      <td>ER5 Comm. Recyc. (Bldg Mgmt)</td>\n",
       "      <td>DSNY</td>\n",
       "    </tr>\n",
       "    <tr>\n",
       "      <th>1</th>\n",
       "      <td>Water System</td>\n",
       "      <td>Fire Hydrant Emergency (FHE)</td>\n",
       "      <td>DEP</td>\n",
       "    </tr>\n",
       "    <tr>\n",
       "      <th>2</th>\n",
       "      <td>Water System</td>\n",
       "      <td>Fire Hydrant Emergency (FHE)</td>\n",
       "      <td>DEP</td>\n",
       "    </tr>\n",
       "    <tr>\n",
       "      <th>3</th>\n",
       "      <td>Water System</td>\n",
       "      <td>Fire Hydrant Emergency (FHE)</td>\n",
       "      <td>DEP</td>\n",
       "    </tr>\n",
       "    <tr>\n",
       "      <th>4</th>\n",
       "      <td>Traffic Signal Condition</td>\n",
       "      <td>Pedestrian Signal</td>\n",
       "      <td>DOT</td>\n",
       "    </tr>\n",
       "    <tr>\n",
       "      <th>5</th>\n",
       "      <td>Water System</td>\n",
       "      <td>Hydrant Running Full (WA4)</td>\n",
       "      <td>DEP</td>\n",
       "    </tr>\n",
       "    <tr>\n",
       "      <th>6</th>\n",
       "      <td>Water System</td>\n",
       "      <td>Fire Hydrant Emergency (FHE)</td>\n",
       "      <td>DEP</td>\n",
       "    </tr>\n",
       "    <tr>\n",
       "      <th>7</th>\n",
       "      <td>Noise</td>\n",
       "      <td>Noise: Construction Before/After Hours (NM1)</td>\n",
       "      <td>DEP</td>\n",
       "    </tr>\n",
       "    <tr>\n",
       "      <th>8</th>\n",
       "      <td>Water System</td>\n",
       "      <td>Fire Hydrant Emergency (FHE)</td>\n",
       "      <td>DEP</td>\n",
       "    </tr>\n",
       "    <tr>\n",
       "      <th>9</th>\n",
       "      <td>Water System</td>\n",
       "      <td>Fire Hydrant Emergency (FHE)</td>\n",
       "      <td>DEP</td>\n",
       "    </tr>\n",
       "  </tbody>\n",
       "</table>\n",
       "</div>"
      ],
      "text/plain": [
       "              ComplaintType                                    Descriptor  \\\n",
       "0     Recycling Enforcement                  ER5 Comm. Recyc. (Bldg Mgmt)   \n",
       "1              Water System                  Fire Hydrant Emergency (FHE)   \n",
       "2              Water System                  Fire Hydrant Emergency (FHE)   \n",
       "3              Water System                  Fire Hydrant Emergency (FHE)   \n",
       "4  Traffic Signal Condition                             Pedestrian Signal   \n",
       "5              Water System                    Hydrant Running Full (WA4)   \n",
       "6              Water System                  Fire Hydrant Emergency (FHE)   \n",
       "7                     Noise  Noise: Construction Before/After Hours (NM1)   \n",
       "8              Water System                  Fire Hydrant Emergency (FHE)   \n",
       "9              Water System                  Fire Hydrant Emergency (FHE)   \n",
       "\n",
       "  Agency  \n",
       "0   DSNY  \n",
       "1    DEP  \n",
       "2    DEP  \n",
       "3    DEP  \n",
       "4    DOT  \n",
       "5    DEP  \n",
       "6    DEP  \n",
       "7    DEP  \n",
       "8    DEP  \n",
       "9    DEP  "
      ]
     },
     "execution_count": 14,
     "metadata": {},
     "output_type": "execute_result"
    }
   ],
   "source": [
    "# displaying first 10 rows for columns: complaintType, Descriptor and Agency \n",
    "df = pd.read_sql_query('SELECT ComplaintType, Descriptor, Agency '\n",
    "                       'FROM data '\n",
    "                       'LIMIT 10', disk_engine)\n",
    "df"
   ]
  },
  {
   "cell_type": "code",
   "execution_count": 15,
   "metadata": {
    "collapsed": false
   },
   "outputs": [
    {
     "data": {
      "text/html": [
       "<div>\n",
       "<table border=\"1\" class=\"dataframe\">\n",
       "  <thead>\n",
       "    <tr style=\"text-align: right;\">\n",
       "      <th></th>\n",
       "      <th>ComplaintType</th>\n",
       "      <th>Descriptor</th>\n",
       "      <th>Agency</th>\n",
       "    </tr>\n",
       "  </thead>\n",
       "  <tbody>\n",
       "    <tr>\n",
       "      <th>0</th>\n",
       "      <td>Vending</td>\n",
       "      <td>Unlicensed</td>\n",
       "      <td>NYPD</td>\n",
       "    </tr>\n",
       "    <tr>\n",
       "      <th>1</th>\n",
       "      <td>Noise - Residential</td>\n",
       "      <td>Loud Music/Party</td>\n",
       "      <td>NYPD</td>\n",
       "    </tr>\n",
       "    <tr>\n",
       "      <th>2</th>\n",
       "      <td>Derelict Vehicle</td>\n",
       "      <td>With License Plate</td>\n",
       "      <td>NYPD</td>\n",
       "    </tr>\n",
       "    <tr>\n",
       "      <th>3</th>\n",
       "      <td>Noise - Commercial</td>\n",
       "      <td>Loud Music/Party</td>\n",
       "      <td>NYPD</td>\n",
       "    </tr>\n",
       "    <tr>\n",
       "      <th>4</th>\n",
       "      <td>Noise - Residential</td>\n",
       "      <td>Loud Music/Party</td>\n",
       "      <td>NYPD</td>\n",
       "    </tr>\n",
       "  </tbody>\n",
       "</table>\n",
       "</div>"
      ],
      "text/plain": [
       "         ComplaintType          Descriptor Agency\n",
       "0              Vending          Unlicensed   NYPD\n",
       "1  Noise - Residential    Loud Music/Party   NYPD\n",
       "2     Derelict Vehicle  With License Plate   NYPD\n",
       "3   Noise - Commercial    Loud Music/Party   NYPD\n",
       "4  Noise - Residential    Loud Music/Party   NYPD"
      ]
     },
     "execution_count": 15,
     "metadata": {},
     "output_type": "execute_result"
    }
   ],
   "source": [
    "# displaying first 10 rows for selected columns for agency = \"NYPD\" using conidtional SQL statement \n",
    "df = pd.read_sql_query('SELECT ComplaintType, Descriptor, Agency '\n",
    "                       'FROM data '\n",
    "                       'WHERE Agency = \"NYPD\" '\n",
    "                       'LIMIT 10', disk_engine)\n",
    "df.head()"
   ]
  },
  {
   "cell_type": "code",
   "execution_count": 16,
   "metadata": {
    "collapsed": false
   },
   "outputs": [
    {
     "data": {
      "text/html": [
       "<div>\n",
       "<table border=\"1\" class=\"dataframe\">\n",
       "  <thead>\n",
       "    <tr style=\"text-align: right;\">\n",
       "      <th></th>\n",
       "      <th>ComplaintType</th>\n",
       "      <th>Descriptor</th>\n",
       "      <th>Agency</th>\n",
       "    </tr>\n",
       "  </thead>\n",
       "  <tbody>\n",
       "    <tr>\n",
       "      <th>0</th>\n",
       "      <td>Vending</td>\n",
       "      <td>Unlicensed</td>\n",
       "      <td>NYPD</td>\n",
       "    </tr>\n",
       "    <tr>\n",
       "      <th>1</th>\n",
       "      <td>Noise - Residential</td>\n",
       "      <td>Loud Music/Party</td>\n",
       "      <td>NYPD</td>\n",
       "    </tr>\n",
       "    <tr>\n",
       "      <th>2</th>\n",
       "      <td>General Construction/Plumbing</td>\n",
       "      <td>Failure to Comply with Vacate Order</td>\n",
       "      <td>DOB</td>\n",
       "    </tr>\n",
       "    <tr>\n",
       "      <th>3</th>\n",
       "      <td>Derelict Vehicle</td>\n",
       "      <td>With License Plate</td>\n",
       "      <td>NYPD</td>\n",
       "    </tr>\n",
       "    <tr>\n",
       "      <th>4</th>\n",
       "      <td>Noise - Commercial</td>\n",
       "      <td>Loud Music/Party</td>\n",
       "      <td>NYPD</td>\n",
       "    </tr>\n",
       "  </tbody>\n",
       "</table>\n",
       "</div>"
      ],
      "text/plain": [
       "                   ComplaintType                           Descriptor Agency\n",
       "0                        Vending                           Unlicensed   NYPD\n",
       "1            Noise - Residential                     Loud Music/Party   NYPD\n",
       "2  General Construction/Plumbing  Failure to Comply with Vacate Order    DOB\n",
       "3               Derelict Vehicle                   With License Plate   NYPD\n",
       "4             Noise - Commercial                     Loud Music/Party   NYPD"
      ]
     },
     "execution_count": 16,
     "metadata": {},
     "output_type": "execute_result"
    }
   ],
   "source": [
    "# displaying first 10 rows for selected columns for agency = \"NYPD\" or \"DOB\"\n",
    "df = pd.read_sql_query('SELECT ComplaintType, Descriptor, Agency '\n",
    "                       'FROM data '\n",
    "                       'WHERE Agency IN (\"NYPD\", \"DOB\")'\n",
    "                       'LIMIT 10', disk_engine)\n",
    "df.head()"
   ]
  },
  {
   "cell_type": "code",
   "execution_count": 17,
   "metadata": {
    "collapsed": false
   },
   "outputs": [
    {
     "data": {
      "text/html": [
       "<div>\n",
       "<table border=\"1\" class=\"dataframe\">\n",
       "  <thead>\n",
       "    <tr style=\"text-align: right;\">\n",
       "      <th></th>\n",
       "      <th>City</th>\n",
       "    </tr>\n",
       "  </thead>\n",
       "  <tbody>\n",
       "    <tr>\n",
       "      <th>0</th>\n",
       "      <td>NEW YORK</td>\n",
       "    </tr>\n",
       "    <tr>\n",
       "      <th>1</th>\n",
       "      <td>BRONX</td>\n",
       "    </tr>\n",
       "    <tr>\n",
       "      <th>2</th>\n",
       "      <td>BROOKLYN</td>\n",
       "    </tr>\n",
       "    <tr>\n",
       "      <th>3</th>\n",
       "      <td>None</td>\n",
       "    </tr>\n",
       "    <tr>\n",
       "      <th>4</th>\n",
       "      <td>Jamaica</td>\n",
       "    </tr>\n",
       "  </tbody>\n",
       "</table>\n",
       "</div>"
      ],
      "text/plain": [
       "       City\n",
       "0  NEW YORK\n",
       "1     BRONX\n",
       "2  BROOKLYN\n",
       "3      None\n",
       "4   Jamaica"
      ]
     },
     "execution_count": 17,
     "metadata": {},
     "output_type": "execute_result"
    }
   ],
   "source": [
    "# displaying different cities (no reptition)\n",
    "df = pd.read_sql_query('SELECT DISTINCT City FROM data', disk_engine)\n",
    "df.head()"
   ]
  },
  {
   "cell_type": "code",
   "execution_count": 18,
   "metadata": {
    "collapsed": false
   },
   "outputs": [
    {
     "data": {
      "text/html": [
       "<div>\n",
       "<table border=\"1\" class=\"dataframe\">\n",
       "  <thead>\n",
       "    <tr style=\"text-align: right;\">\n",
       "      <th></th>\n",
       "      <th>Agency</th>\n",
       "      <th>num_complaints</th>\n",
       "    </tr>\n",
       "  </thead>\n",
       "  <tbody>\n",
       "    <tr>\n",
       "      <th>0</th>\n",
       "      <td>3-1-1</td>\n",
       "      <td>23953</td>\n",
       "    </tr>\n",
       "    <tr>\n",
       "      <th>1</th>\n",
       "      <td>ACS</td>\n",
       "      <td>172</td>\n",
       "    </tr>\n",
       "    <tr>\n",
       "      <th>2</th>\n",
       "      <td>AJC</td>\n",
       "      <td>9</td>\n",
       "    </tr>\n",
       "    <tr>\n",
       "      <th>3</th>\n",
       "      <td>CAU</td>\n",
       "      <td>10</td>\n",
       "    </tr>\n",
       "    <tr>\n",
       "      <th>4</th>\n",
       "      <td>CCRB</td>\n",
       "      <td>13</td>\n",
       "    </tr>\n",
       "  </tbody>\n",
       "</table>\n",
       "</div>"
      ],
      "text/plain": [
       "  Agency  num_complaints\n",
       "0  3-1-1           23953\n",
       "1    ACS             172\n",
       "2    AJC               9\n",
       "3    CAU              10\n",
       "4   CCRB              13"
      ]
     },
     "execution_count": 18,
     "metadata": {},
     "output_type": "execute_result"
    }
   ],
   "source": [
    "# displaying number of complaints for each agency (first 5 agencies)\n",
    "df = pd.read_sql_query('SELECT Agency, COUNT(*) as `num_complaints`'\n",
    "                       'FROM data '\n",
    "                       'GROUP BY Agency ', disk_engine)\n",
    "\n",
    "df.head()"
   ]
  },
  {
   "cell_type": "code",
   "execution_count": 19,
   "metadata": {
    "collapsed": false
   },
   "outputs": [
    {
     "data": {
      "text/html": [
       "<div>\n",
       "<table border=\"1\" class=\"dataframe\">\n",
       "  <thead>\n",
       "    <tr style=\"text-align: right;\">\n",
       "      <th></th>\n",
       "      <th>Agency</th>\n",
       "      <th>num_complaints</th>\n",
       "    </tr>\n",
       "  </thead>\n",
       "  <tbody>\n",
       "    <tr>\n",
       "      <th>0</th>\n",
       "      <td>HPD</td>\n",
       "      <td>4187669</td>\n",
       "    </tr>\n",
       "    <tr>\n",
       "      <th>1</th>\n",
       "      <td>NYPD</td>\n",
       "      <td>2844839</td>\n",
       "    </tr>\n",
       "    <tr>\n",
       "      <th>2</th>\n",
       "      <td>DOT</td>\n",
       "      <td>2022574</td>\n",
       "    </tr>\n",
       "    <tr>\n",
       "      <th>3</th>\n",
       "      <td>DEP</td>\n",
       "      <td>1147953</td>\n",
       "    </tr>\n",
       "    <tr>\n",
       "      <th>4</th>\n",
       "      <td>DSNY</td>\n",
       "      <td>939977</td>\n",
       "    </tr>\n",
       "    <tr>\n",
       "      <th>5</th>\n",
       "      <td>DPR</td>\n",
       "      <td>645300</td>\n",
       "    </tr>\n",
       "    <tr>\n",
       "      <th>6</th>\n",
       "      <td>DOB</td>\n",
       "      <td>624475</td>\n",
       "    </tr>\n",
       "    <tr>\n",
       "      <th>7</th>\n",
       "      <td>DOF</td>\n",
       "      <td>529948</td>\n",
       "    </tr>\n",
       "    <tr>\n",
       "      <th>8</th>\n",
       "      <td>DOHMH</td>\n",
       "      <td>358322</td>\n",
       "    </tr>\n",
       "    <tr>\n",
       "      <th>9</th>\n",
       "      <td>TLC</td>\n",
       "      <td>162858</td>\n",
       "    </tr>\n",
       "    <tr>\n",
       "      <th>10</th>\n",
       "      <td>DCA</td>\n",
       "      <td>144184</td>\n",
       "    </tr>\n",
       "    <tr>\n",
       "      <th>11</th>\n",
       "      <td>DHS</td>\n",
       "      <td>123011</td>\n",
       "    </tr>\n",
       "    <tr>\n",
       "      <th>12</th>\n",
       "      <td>HRA</td>\n",
       "      <td>81260</td>\n",
       "    </tr>\n",
       "    <tr>\n",
       "      <th>13</th>\n",
       "      <td>DFTA</td>\n",
       "      <td>70448</td>\n",
       "    </tr>\n",
       "    <tr>\n",
       "      <th>14</th>\n",
       "      <td>FDNY</td>\n",
       "      <td>36112</td>\n",
       "    </tr>\n",
       "    <tr>\n",
       "      <th>15</th>\n",
       "      <td>3-1-1</td>\n",
       "      <td>23953</td>\n",
       "    </tr>\n",
       "    <tr>\n",
       "      <th>16</th>\n",
       "      <td>DOE</td>\n",
       "      <td>13712</td>\n",
       "    </tr>\n",
       "    <tr>\n",
       "      <th>17</th>\n",
       "      <td>EDC</td>\n",
       "      <td>6959</td>\n",
       "    </tr>\n",
       "    <tr>\n",
       "      <th>18</th>\n",
       "      <td>DOITT</td>\n",
       "      <td>5987</td>\n",
       "    </tr>\n",
       "    <tr>\n",
       "      <th>19</th>\n",
       "      <td>CHALL</td>\n",
       "      <td>1620</td>\n",
       "    </tr>\n",
       "    <tr>\n",
       "      <th>20</th>\n",
       "      <td>OPS</td>\n",
       "      <td>1301</td>\n",
       "    </tr>\n",
       "    <tr>\n",
       "      <th>21</th>\n",
       "      <td>NYCEM</td>\n",
       "      <td>1127</td>\n",
       "    </tr>\n",
       "    <tr>\n",
       "      <th>22</th>\n",
       "      <td>OATH</td>\n",
       "      <td>320</td>\n",
       "    </tr>\n",
       "    <tr>\n",
       "      <th>23</th>\n",
       "      <td>DOP</td>\n",
       "      <td>204</td>\n",
       "    </tr>\n",
       "    <tr>\n",
       "      <th>24</th>\n",
       "      <td>ACS</td>\n",
       "      <td>172</td>\n",
       "    </tr>\n",
       "    <tr>\n",
       "      <th>25</th>\n",
       "      <td>DORIS</td>\n",
       "      <td>68</td>\n",
       "    </tr>\n",
       "    <tr>\n",
       "      <th>26</th>\n",
       "      <td>DCP</td>\n",
       "      <td>63</td>\n",
       "    </tr>\n",
       "    <tr>\n",
       "      <th>27</th>\n",
       "      <td>MOIA</td>\n",
       "      <td>33</td>\n",
       "    </tr>\n",
       "    <tr>\n",
       "      <th>28</th>\n",
       "      <td>COIB</td>\n",
       "      <td>32</td>\n",
       "    </tr>\n",
       "    <tr>\n",
       "      <th>29</th>\n",
       "      <td>MOVA</td>\n",
       "      <td>18</td>\n",
       "    </tr>\n",
       "    <tr>\n",
       "      <th>...</th>\n",
       "      <td>...</td>\n",
       "      <td>...</td>\n",
       "    </tr>\n",
       "    <tr>\n",
       "      <th>34</th>\n",
       "      <td>DCLA</td>\n",
       "      <td>11</td>\n",
       "    </tr>\n",
       "    <tr>\n",
       "      <th>35</th>\n",
       "      <td>LAW</td>\n",
       "      <td>11</td>\n",
       "    </tr>\n",
       "    <tr>\n",
       "      <th>36</th>\n",
       "      <td>CAU</td>\n",
       "      <td>10</td>\n",
       "    </tr>\n",
       "    <tr>\n",
       "      <th>37</th>\n",
       "      <td>MOPD</td>\n",
       "      <td>10</td>\n",
       "    </tr>\n",
       "    <tr>\n",
       "      <th>38</th>\n",
       "      <td>NYCOOA</td>\n",
       "      <td>10</td>\n",
       "    </tr>\n",
       "    <tr>\n",
       "      <th>39</th>\n",
       "      <td>AJC</td>\n",
       "      <td>9</td>\n",
       "    </tr>\n",
       "    <tr>\n",
       "      <th>40</th>\n",
       "      <td>DOC</td>\n",
       "      <td>9</td>\n",
       "    </tr>\n",
       "    <tr>\n",
       "      <th>41</th>\n",
       "      <td>MOC</td>\n",
       "      <td>9</td>\n",
       "    </tr>\n",
       "    <tr>\n",
       "      <th>42</th>\n",
       "      <td>NYCPPF</td>\n",
       "      <td>9</td>\n",
       "    </tr>\n",
       "    <tr>\n",
       "      <th>43</th>\n",
       "      <td>OCME</td>\n",
       "      <td>9</td>\n",
       "    </tr>\n",
       "    <tr>\n",
       "      <th>44</th>\n",
       "      <td>DCAS</td>\n",
       "      <td>8</td>\n",
       "    </tr>\n",
       "    <tr>\n",
       "      <th>45</th>\n",
       "      <td>DYCD</td>\n",
       "      <td>8</td>\n",
       "    </tr>\n",
       "    <tr>\n",
       "      <th>46</th>\n",
       "      <td>OCHIA</td>\n",
       "      <td>8</td>\n",
       "    </tr>\n",
       "    <tr>\n",
       "      <th>47</th>\n",
       "      <td>IA</td>\n",
       "      <td>7</td>\n",
       "    </tr>\n",
       "    <tr>\n",
       "      <th>48</th>\n",
       "      <td>OPA</td>\n",
       "      <td>6</td>\n",
       "    </tr>\n",
       "    <tr>\n",
       "      <th>49</th>\n",
       "      <td>SBS</td>\n",
       "      <td>6</td>\n",
       "    </tr>\n",
       "    <tr>\n",
       "      <th>50</th>\n",
       "      <td>EMTF</td>\n",
       "      <td>5</td>\n",
       "    </tr>\n",
       "    <tr>\n",
       "      <th>51</th>\n",
       "      <td>OAE</td>\n",
       "      <td>5</td>\n",
       "    </tr>\n",
       "    <tr>\n",
       "      <th>52</th>\n",
       "      <td>CWI</td>\n",
       "      <td>4</td>\n",
       "    </tr>\n",
       "    <tr>\n",
       "      <th>53</th>\n",
       "      <td>NYCERS</td>\n",
       "      <td>4</td>\n",
       "    </tr>\n",
       "    <tr>\n",
       "      <th>54</th>\n",
       "      <td>VAC</td>\n",
       "      <td>4</td>\n",
       "    </tr>\n",
       "    <tr>\n",
       "      <th>55</th>\n",
       "      <td>DESIGNCOM</td>\n",
       "      <td>3</td>\n",
       "    </tr>\n",
       "    <tr>\n",
       "      <th>56</th>\n",
       "      <td>DV</td>\n",
       "      <td>3</td>\n",
       "    </tr>\n",
       "    <tr>\n",
       "      <th>57</th>\n",
       "      <td>LOFT</td>\n",
       "      <td>3</td>\n",
       "    </tr>\n",
       "    <tr>\n",
       "      <th>58</th>\n",
       "      <td>NYCSERVICE</td>\n",
       "      <td>3</td>\n",
       "    </tr>\n",
       "    <tr>\n",
       "      <th>59</th>\n",
       "      <td>WF1</td>\n",
       "      <td>3</td>\n",
       "    </tr>\n",
       "    <tr>\n",
       "      <th>60</th>\n",
       "      <td>LPC</td>\n",
       "      <td>1</td>\n",
       "    </tr>\n",
       "    <tr>\n",
       "      <th>61</th>\n",
       "      <td>OMB</td>\n",
       "      <td>1</td>\n",
       "    </tr>\n",
       "    <tr>\n",
       "      <th>62</th>\n",
       "      <td>TAT</td>\n",
       "      <td>1</td>\n",
       "    </tr>\n",
       "    <tr>\n",
       "      <th>63</th>\n",
       "      <td>TFA</td>\n",
       "      <td>1</td>\n",
       "    </tr>\n",
       "  </tbody>\n",
       "</table>\n",
       "<p>64 rows × 2 columns</p>\n",
       "</div>"
      ],
      "text/plain": [
       "        Agency  num_complaints\n",
       "0          HPD         4187669\n",
       "1         NYPD         2844839\n",
       "2          DOT         2022574\n",
       "3          DEP         1147953\n",
       "4         DSNY          939977\n",
       "5          DPR          645300\n",
       "6          DOB          624475\n",
       "7          DOF          529948\n",
       "8        DOHMH          358322\n",
       "9          TLC          162858\n",
       "10         DCA          144184\n",
       "11         DHS          123011\n",
       "12         HRA           81260\n",
       "13        DFTA           70448\n",
       "14        FDNY           36112\n",
       "15       3-1-1           23953\n",
       "16         DOE           13712\n",
       "17         EDC            6959\n",
       "18       DOITT            5987\n",
       "19       CHALL            1620\n",
       "20         OPS            1301\n",
       "21       NYCEM            1127\n",
       "22        OATH             320\n",
       "23         DOP             204\n",
       "24         ACS             172\n",
       "25       DORIS              68\n",
       "26         DCP              63\n",
       "27        MOIA              33\n",
       "28        COIB              32\n",
       "29        MOVA              18\n",
       "..         ...             ...\n",
       "34        DCLA              11\n",
       "35         LAW              11\n",
       "36         CAU              10\n",
       "37        MOPD              10\n",
       "38      NYCOOA              10\n",
       "39         AJC               9\n",
       "40         DOC               9\n",
       "41         MOC               9\n",
       "42      NYCPPF               9\n",
       "43        OCME               9\n",
       "44        DCAS               8\n",
       "45        DYCD               8\n",
       "46       OCHIA               8\n",
       "47          IA               7\n",
       "48         OPA               6\n",
       "49         SBS               6\n",
       "50        EMTF               5\n",
       "51         OAE               5\n",
       "52         CWI               4\n",
       "53      NYCERS               4\n",
       "54         VAC               4\n",
       "55   DESIGNCOM               3\n",
       "56          DV               3\n",
       "57        LOFT               3\n",
       "58  NYCSERVICE               3\n",
       "59         WF1               3\n",
       "60         LPC               1\n",
       "61         OMB               1\n",
       "62         TAT               1\n",
       "63         TFA               1\n",
       "\n",
       "[64 rows x 2 columns]"
      ]
     },
     "execution_count": 19,
     "metadata": {},
     "output_type": "execute_result"
    }
   ],
   "source": [
    "# displaying all agencies along with number of complaints for each of them ordered by no. of complaints\n",
    "df = pd.read_sql_query('SELECT Agency, COUNT(*) as `num_complaints`'\n",
    "                       'FROM data '\n",
    "                       'GROUP BY Agency '\n",
    "                       'ORDER BY -num_complaints', disk_engine)\n",
    "df"
   ]
  },
  {
   "cell_type": "code",
   "execution_count": 20,
   "metadata": {
    "collapsed": true
   },
   "outputs": [],
   "source": [
    "import plotly.plotly as py\n",
    "py.sign_in('juhisrivastava', 'tbh9rldffu')"
   ]
  },
  {
   "cell_type": "code",
   "execution_count": 21,
   "metadata": {
    "collapsed": false
   },
   "outputs": [
    {
     "name": "stdout",
     "output_type": "stream",
     "text": [
      "High five! You successfuly sent some data to your account on plotly. View your plot in your browser at https://plot.ly/~juhisrivastava/0 or inside your plot.ly account where it is named 'plot from API'\n"
     ]
    },
    {
     "data": {
      "text/html": [
       "<iframe id=\"igraph\" scrolling=\"no\" style=\"border:none;\" seamless=\"seamless\" src=\"https://plot.ly/~juhisrivastava/0.embed\" height=\"525px\" width=\"100%\"></iframe>"
      ],
      "text/plain": [
       "<plotly.tools.PlotlyDisplay object>"
      ]
     },
     "execution_count": 21,
     "metadata": {},
     "output_type": "execute_result"
    }
   ],
   "source": [
    "py.iplot([Bar(x=df.Agency, y=df.num_complaints)])"
   ]
  },
  {
   "cell_type": "code",
   "execution_count": 22,
   "metadata": {
    "collapsed": false
   },
   "outputs": [
    {
     "data": {
      "text/html": [
       "<iframe id=\"igraph\" scrolling=\"no\" style=\"border:none;\" seamless=\"seamless\" src=\"https://plot.ly/~juhisrivastava/2.embed\" height=\"525px\" width=\"100%\"></iframe>"
      ],
      "text/plain": [
       "<plotly.tools.PlotlyDisplay object>"
      ]
     },
     "execution_count": 22,
     "metadata": {},
     "output_type": "execute_result"
    }
   ],
   "source": [
    "# plotting data to show frequency for each complaint type \n",
    "df = pd.read_sql_query('SELECT ComplaintType, COUNT(*) as `num_complaints`, Agency '\n",
    "                       'FROM data '\n",
    "                       'GROUP BY `ComplaintType` '\n",
    "                       'ORDER BY -num_complaints', disk_engine)\n",
    "\n",
    "\n",
    "most_common_complaints = df # used later\n",
    "py.iplot({\n",
    "    'data': [Bar(x=df['ComplaintType'], y=df.num_complaints)],\n",
    "    'layout': { \n",
    "        'margin': {'b': 150}, # Make the bottom margin a bit bigger to handle the long text\n",
    "        'xaxis': {'tickangle': 40}} # Angle the labels a bit\n",
    "    })"
   ]
  },
  {
   "cell_type": "code",
   "execution_count": 23,
   "metadata": {
    "collapsed": false
   },
   "outputs": [
    {
     "data": {
      "text/plain": [
       "2205"
      ]
     },
     "execution_count": 23,
     "metadata": {},
     "output_type": "execute_result"
    }
   ],
   "source": [
    "# displaying number of distinct cities from data \n",
    "len(pd.read_sql_query('SELECT DISTINCT City FROM data', disk_engine))"
   ]
  },
  {
   "cell_type": "code",
   "execution_count": 24,
   "metadata": {
    "collapsed": false
   },
   "outputs": [
    {
     "data": {
      "text/html": [
       "<div>\n",
       "<table border=\"1\" class=\"dataframe\">\n",
       "  <thead>\n",
       "    <tr style=\"text-align: right;\">\n",
       "      <th></th>\n",
       "      <th>City</th>\n",
       "      <th>num_complaints</th>\n",
       "    </tr>\n",
       "  </thead>\n",
       "  <tbody>\n",
       "    <tr>\n",
       "      <th>0</th>\n",
       "      <td>BROOKLYN</td>\n",
       "      <td>4118685</td>\n",
       "    </tr>\n",
       "    <tr>\n",
       "      <th>1</th>\n",
       "      <td>NEW YORK</td>\n",
       "      <td>2693434</td>\n",
       "    </tr>\n",
       "    <tr>\n",
       "      <th>2</th>\n",
       "      <td>BRONX</td>\n",
       "      <td>2505136</td>\n",
       "    </tr>\n",
       "    <tr>\n",
       "      <th>3</th>\n",
       "      <td>None</td>\n",
       "      <td>996594</td>\n",
       "    </tr>\n",
       "    <tr>\n",
       "      <th>4</th>\n",
       "      <td>STATEN ISLAND</td>\n",
       "      <td>660389</td>\n",
       "    </tr>\n",
       "    <tr>\n",
       "      <th>5</th>\n",
       "      <td>JAMAICA</td>\n",
       "      <td>206618</td>\n",
       "    </tr>\n",
       "    <tr>\n",
       "      <th>6</th>\n",
       "      <td>FLUSHING</td>\n",
       "      <td>162742</td>\n",
       "    </tr>\n",
       "    <tr>\n",
       "      <th>7</th>\n",
       "      <td>ASTORIA</td>\n",
       "      <td>133335</td>\n",
       "    </tr>\n",
       "    <tr>\n",
       "      <th>8</th>\n",
       "      <td>Jamaica</td>\n",
       "      <td>123234</td>\n",
       "    </tr>\n",
       "    <tr>\n",
       "      <th>9</th>\n",
       "      <td>RIDGEWOOD</td>\n",
       "      <td>98243</td>\n",
       "    </tr>\n",
       "  </tbody>\n",
       "</table>\n",
       "</div>"
      ],
      "text/plain": [
       "            City  num_complaints\n",
       "0       BROOKLYN         4118685\n",
       "1       NEW YORK         2693434\n",
       "2          BRONX         2505136\n",
       "3           None          996594\n",
       "4  STATEN ISLAND          660389\n",
       "5        JAMAICA          206618\n",
       "6       FLUSHING          162742\n",
       "7        ASTORIA          133335\n",
       "8        Jamaica          123234\n",
       "9      RIDGEWOOD           98243"
      ]
     },
     "execution_count": 24,
     "metadata": {},
     "output_type": "execute_result"
    }
   ],
   "source": [
    "# displaying number of complaints for each city (first 10 cities)\n",
    "df = pd.read_sql_query('SELECT City, COUNT(*) as `num_complaints` '\n",
    "                                'FROM data '\n",
    "                                'GROUP BY `City` '\n",
    "                       'ORDER BY -num_complaints '\n",
    "                       'LIMIT 10 ', disk_engine)\n",
    "df"
   ]
  },
  {
   "cell_type": "code",
   "execution_count": 25,
   "metadata": {
    "collapsed": false
   },
   "outputs": [
    {
     "data": {
      "text/html": [
       "<div>\n",
       "<table border=\"1\" class=\"dataframe\">\n",
       "  <thead>\n",
       "    <tr style=\"text-align: right;\">\n",
       "      <th></th>\n",
       "      <th>City</th>\n",
       "      <th>num_complaints</th>\n",
       "    </tr>\n",
       "  </thead>\n",
       "  <tbody>\n",
       "    <tr>\n",
       "      <th>0</th>\n",
       "      <td>BROOKLYN</td>\n",
       "      <td>4118685</td>\n",
       "    </tr>\n",
       "    <tr>\n",
       "      <th>1</th>\n",
       "      <td>NEW YORK</td>\n",
       "      <td>2693436</td>\n",
       "    </tr>\n",
       "    <tr>\n",
       "      <th>2</th>\n",
       "      <td>BRONX</td>\n",
       "      <td>2505136</td>\n",
       "    </tr>\n",
       "    <tr>\n",
       "      <th>3</th>\n",
       "      <td>None</td>\n",
       "      <td>996594</td>\n",
       "    </tr>\n",
       "    <tr>\n",
       "      <th>4</th>\n",
       "      <td>STATEN ISLAND</td>\n",
       "      <td>660389</td>\n",
       "    </tr>\n",
       "    <tr>\n",
       "      <th>5</th>\n",
       "      <td>Jamaica</td>\n",
       "      <td>329852</td>\n",
       "    </tr>\n",
       "    <tr>\n",
       "      <th>6</th>\n",
       "      <td>Flushing</td>\n",
       "      <td>247870</td>\n",
       "    </tr>\n",
       "    <tr>\n",
       "      <th>7</th>\n",
       "      <td>Astoria</td>\n",
       "      <td>205449</td>\n",
       "    </tr>\n",
       "    <tr>\n",
       "      <th>8</th>\n",
       "      <td>Ridgewood</td>\n",
       "      <td>148550</td>\n",
       "    </tr>\n",
       "    <tr>\n",
       "      <th>9</th>\n",
       "      <td>Corona</td>\n",
       "      <td>107194</td>\n",
       "    </tr>\n",
       "    <tr>\n",
       "      <th>10</th>\n",
       "      <td>Woodside</td>\n",
       "      <td>103236</td>\n",
       "    </tr>\n",
       "  </tbody>\n",
       "</table>\n",
       "</div>"
      ],
      "text/plain": [
       "             City  num_complaints\n",
       "0        BROOKLYN         4118685\n",
       "1        NEW YORK         2693436\n",
       "2           BRONX         2505136\n",
       "3            None          996594\n",
       "4   STATEN ISLAND          660389\n",
       "5         Jamaica          329852\n",
       "6        Flushing          247870\n",
       "7         Astoria          205449\n",
       "8       Ridgewood          148550\n",
       "9          Corona          107194\n",
       "10       Woodside          103236"
      ]
     },
     "execution_count": 25,
     "metadata": {},
     "output_type": "execute_result"
    }
   ],
   "source": [
    "df = pd.read_sql_query('SELECT City, COUNT(*) as `num_complaints` '\n",
    "                        'FROM data '\n",
    "                        'GROUP BY `City` '\n",
    "                       'COLLATE NOCASE '\n",
    "                       'ORDER BY -num_complaints '\n",
    "                       'LIMIT 11 ', disk_engine)\n",
    "df"
   ]
  },
  {
   "cell_type": "code",
   "execution_count": 26,
   "metadata": {
    "collapsed": true
   },
   "outputs": [],
   "source": [
    "cities = list(df.City)\n",
    "cities.remove(None)"
   ]
  },
  {
   "cell_type": "code",
   "execution_count": 27,
   "metadata": {
    "collapsed": true
   },
   "outputs": [],
   "source": [
    "traces = [] # the series in the graph - one trace for each city\n",
    "\n",
    "for city in cities:\n",
    "    df = pd.read_sql_query('SELECT ComplaintType, COUNT(*) as `num_complaints` '\n",
    "                           'FROM data '\n",
    "                           'WHERE City = \"{}\" COLLATE NOCASE '\n",
    "                           'GROUP BY `ComplaintType` '\n",
    "                           'ORDER BY -num_complaints'.format(city), disk_engine)\n",
    "\n",
    "    traces.append(Bar(x=df['ComplaintType'], y=df.num_complaints, name=city.capitalize()))"
   ]
  },
  {
   "cell_type": "code",
   "execution_count": 28,
   "metadata": {
    "collapsed": false
   },
   "outputs": [
    {
     "data": {
      "text/html": [
       "<iframe id=\"igraph\" scrolling=\"no\" style=\"border:none;\" seamless=\"seamless\" src=\"https://plot.ly/~juhisrivastava/4.embed\" height=\"525px\" width=\"100%\"></iframe>"
      ],
      "text/plain": [
       "<plotly.tools.PlotlyDisplay object>"
      ]
     },
     "execution_count": 28,
     "metadata": {},
     "output_type": "execute_result"
    }
   ],
   "source": [
    "py.iplot({'data': traces, 'layout': Layout(barmode='stack', xaxis={'tickangle': 40}, margin={'b': 150})})"
   ]
  },
  {
   "cell_type": "code",
   "execution_count": 29,
   "metadata": {
    "collapsed": true
   },
   "outputs": [],
   "source": [
    "for trace in traces:\n",
    "    trace['y'] = 100.*trace['y']/sum(trace['y'])"
   ]
  },
  {
   "cell_type": "code",
   "execution_count": 30,
   "metadata": {
    "collapsed": false
   },
   "outputs": [
    {
     "data": {
      "text/html": [
       "<iframe id=\"igraph\" scrolling=\"no\" style=\"border:none;\" seamless=\"seamless\" src=\"https://plot.ly/~juhisrivastava/6.embed\" height=\"525px\" width=\"100%\"></iframe>"
      ],
      "text/plain": [
       "<plotly.tools.PlotlyDisplay object>"
      ]
     },
     "execution_count": 30,
     "metadata": {},
     "output_type": "execute_result"
    }
   ],
   "source": [
    "py.iplot({'data': traces, \n",
    "          'layout': Layout(\n",
    "                barmode='group',\n",
    "                xaxis={'tickangle': 40, 'autorange': False, 'range': [-0.5, 16]},\n",
    "                yaxis={'title': 'Percent of Complaints by City'},\n",
    "                margin={'b': 150},\n",
    "                title='Relative Number of 311 Complaints by City')\n",
    "         })"
   ]
  },
  {
   "cell_type": "code",
   "execution_count": 31,
   "metadata": {
    "collapsed": false
   },
   "outputs": [
    {
     "data": {
      "text/html": [
       "<div>\n",
       "<table border=\"1\" class=\"dataframe\">\n",
       "  <thead>\n",
       "    <tr style=\"text-align: right;\">\n",
       "      <th></th>\n",
       "      <th>ComplaintType</th>\n",
       "      <th>CreatedDate</th>\n",
       "      <th>City</th>\n",
       "    </tr>\n",
       "  </thead>\n",
       "  <tbody>\n",
       "    <tr>\n",
       "      <th>0</th>\n",
       "      <td>Derelict Vehicles</td>\n",
       "      <td>2014-11-16 23:46:00.000000</td>\n",
       "      <td>Jamaica</td>\n",
       "    </tr>\n",
       "    <tr>\n",
       "      <th>1</th>\n",
       "      <td>Noise - Commercial</td>\n",
       "      <td>2014-11-16 23:46:08.000000</td>\n",
       "      <td>ASTORIA</td>\n",
       "    </tr>\n",
       "    <tr>\n",
       "      <th>2</th>\n",
       "      <td>Noise - Street/Sidewalk</td>\n",
       "      <td>2014-11-16 23:45:10.000000</td>\n",
       "      <td>NEW YORK</td>\n",
       "    </tr>\n",
       "    <tr>\n",
       "      <th>3</th>\n",
       "      <td>Blocked Driveway</td>\n",
       "      <td>2014-11-16 23:45:43.000000</td>\n",
       "      <td>BROOKLYN</td>\n",
       "    </tr>\n",
       "    <tr>\n",
       "      <th>4</th>\n",
       "      <td>Derelict Vehicle</td>\n",
       "      <td>2014-11-16 23:46:57.000000</td>\n",
       "      <td>RIDGEWOOD</td>\n",
       "    </tr>\n",
       "    <tr>\n",
       "      <th>5</th>\n",
       "      <td>School Maintenance</td>\n",
       "      <td>2014-11-16 23:45:41.000000</td>\n",
       "      <td>BRONX</td>\n",
       "    </tr>\n",
       "    <tr>\n",
       "      <th>6</th>\n",
       "      <td>Benefit Card Replacement</td>\n",
       "      <td>2014-11-16 23:45:55.000000</td>\n",
       "      <td>None</td>\n",
       "    </tr>\n",
       "  </tbody>\n",
       "</table>\n",
       "</div>"
      ],
      "text/plain": [
       "              ComplaintType                 CreatedDate       City\n",
       "0         Derelict Vehicles  2014-11-16 23:46:00.000000    Jamaica\n",
       "1        Noise - Commercial  2014-11-16 23:46:08.000000    ASTORIA\n",
       "2   Noise - Street/Sidewalk  2014-11-16 23:45:10.000000   NEW YORK\n",
       "3          Blocked Driveway  2014-11-16 23:45:43.000000   BROOKLYN\n",
       "4          Derelict Vehicle  2014-11-16 23:46:57.000000  RIDGEWOOD\n",
       "5        School Maintenance  2014-11-16 23:45:41.000000      BRONX\n",
       "6  Benefit Card Replacement  2014-11-16 23:45:55.000000       None"
      ]
     },
     "execution_count": 31,
     "metadata": {},
     "output_type": "execute_result"
    }
   ],
   "source": [
    "df = pd.read_sql_query('SELECT ComplaintType, CreatedDate, City '\n",
    "                       'FROM data '\n",
    "                       'WHERE CreatedDate < \"2014-11-16 23:47:00\" '\n",
    "                       'AND CreatedDate > \"2014-11-16 23:45:00\"', disk_engine)\n",
    "\n",
    "df"
   ]
  },
  {
   "cell_type": "code",
   "execution_count": 32,
   "metadata": {
    "collapsed": false
   },
   "outputs": [
    {
     "data": {
      "text/html": [
       "<div>\n",
       "<table border=\"1\" class=\"dataframe\">\n",
       "  <thead>\n",
       "    <tr style=\"text-align: right;\">\n",
       "      <th></th>\n",
       "      <th>CreatedDate</th>\n",
       "      <th>hour</th>\n",
       "      <th>ComplaintType</th>\n",
       "    </tr>\n",
       "  </thead>\n",
       "  <tbody>\n",
       "    <tr>\n",
       "      <th>0</th>\n",
       "      <td>2016-08-20 11:27:00.000000</td>\n",
       "      <td>11</td>\n",
       "      <td>Recycling Enforcement</td>\n",
       "    </tr>\n",
       "    <tr>\n",
       "      <th>1</th>\n",
       "      <td>2013-07-20 06:12:00.000000</td>\n",
       "      <td>06</td>\n",
       "      <td>Water System</td>\n",
       "    </tr>\n",
       "    <tr>\n",
       "      <th>2</th>\n",
       "      <td>2013-07-20 05:49:00.000000</td>\n",
       "      <td>05</td>\n",
       "      <td>Water System</td>\n",
       "    </tr>\n",
       "    <tr>\n",
       "      <th>3</th>\n",
       "      <td>2013-07-20 05:49:00.000000</td>\n",
       "      <td>05</td>\n",
       "      <td>Water System</td>\n",
       "    </tr>\n",
       "    <tr>\n",
       "      <th>4</th>\n",
       "      <td>2016-08-20 12:16:00.000000</td>\n",
       "      <td>12</td>\n",
       "      <td>Traffic Signal Condition</td>\n",
       "    </tr>\n",
       "  </tbody>\n",
       "</table>\n",
       "</div>"
      ],
      "text/plain": [
       "                  CreatedDate hour             ComplaintType\n",
       "0  2016-08-20 11:27:00.000000   11     Recycling Enforcement\n",
       "1  2013-07-20 06:12:00.000000   06              Water System\n",
       "2  2013-07-20 05:49:00.000000   05              Water System\n",
       "3  2013-07-20 05:49:00.000000   05              Water System\n",
       "4  2016-08-20 12:16:00.000000   12  Traffic Signal Condition"
      ]
     },
     "execution_count": 32,
     "metadata": {},
     "output_type": "execute_result"
    }
   ],
   "source": [
    "df = pd.read_sql_query('SELECT CreatedDate, '\n",
    "                              'strftime(\\'%H\\', CreatedDate) as hour, '\n",
    "                              'ComplaintType '\n",
    "                       'FROM data '\n",
    "                       'LIMIT 5 ', disk_engine)\n",
    "df.head()"
   ]
  },
  {
   "cell_type": "code",
   "execution_count": null,
   "metadata": {
    "collapsed": true
   },
   "outputs": [],
   "source": [
    "df = pd.read_sql_query('SELECT CreatedDate, '\n",
    "                               'strftime(\\'%H\\', CreatedDate) as hour,  '\n",
    "                               'count(*) as `Complaints per Hour`'\n",
    "                       'FROM data '\n",
    "                       'GROUP BY hour', disk_engine)\n",
    "\n",
    "df.head()"
   ]
  },
  {
   "cell_type": "markdown",
   "metadata": {},
   "source": [
    "Graphical respresntation of number of complaints according to each hour in a day showing highest number of complaints being logged during early hours of the day with more than 3.5 M complains. "
   ]
  },
  {
   "cell_type": "code",
   "execution_count": 34,
   "metadata": {
    "collapsed": false
   },
   "outputs": [
    {
     "data": {
      "text/html": [
       "<iframe id=\"igraph\" scrolling=\"no\" style=\"border:none;\" seamless=\"seamless\" src=\"https://plot.ly/~juhisrivastava/8.embed\" height=\"525px\" width=\"100%\"></iframe>"
      ],
      "text/plain": [
       "<plotly.tools.PlotlyDisplay object>"
      ]
     },
     "execution_count": 34,
     "metadata": {},
     "output_type": "execute_result"
    }
   ],
   "source": [
    "py.iplot({\n",
    "    'data': [Bar(x=df['hour'], y=df['Complaints per Hour'])],\n",
    "    'layout': Layout(xaxis={'title': 'Hour in Day'},\n",
    "                     yaxis={'title': 'Number of Complaints'})})"
   ]
  },
  {
   "cell_type": "markdown",
   "metadata": {},
   "source": [
    "Following is the graphical representation of the number of noise complaints in NYC by hour in day going highest during the late hours of the day (probably after 9 P.M) with around 96-98k complaints.\n"
   ]
  },
  {
   "cell_type": "code",
   "execution_count": 35,
   "metadata": {
    "collapsed": false
   },
   "outputs": [
    {
     "data": {
      "text/html": [
       "<div>\n",
       "<table border=\"1\" class=\"dataframe\">\n",
       "  <thead>\n",
       "    <tr style=\"text-align: right;\">\n",
       "      <th></th>\n",
       "      <th>CreatedDate</th>\n",
       "      <th>hour</th>\n",
       "      <th>Complaints per Hour</th>\n",
       "    </tr>\n",
       "  </thead>\n",
       "  <tbody>\n",
       "    <tr>\n",
       "      <th>0</th>\n",
       "      <td>2016-08-10 00:41:00.000000</td>\n",
       "      <td>00</td>\n",
       "      <td>75717</td>\n",
       "    </tr>\n",
       "    <tr>\n",
       "      <th>1</th>\n",
       "      <td>2016-08-03 01:48:00.000000</td>\n",
       "      <td>01</td>\n",
       "      <td>59779</td>\n",
       "    </tr>\n",
       "  </tbody>\n",
       "</table>\n",
       "</div>"
      ],
      "text/plain": [
       "                  CreatedDate hour  Complaints per Hour\n",
       "0  2016-08-10 00:41:00.000000   00                75717\n",
       "1  2016-08-03 01:48:00.000000   01                59779"
      ]
     },
     "metadata": {},
     "output_type": "display_data"
    },
    {
     "data": {
      "text/html": [
       "<iframe id=\"igraph\" scrolling=\"no\" style=\"border:none;\" seamless=\"seamless\" src=\"https://plot.ly/~juhisrivastava/10.embed\" height=\"525px\" width=\"100%\"></iframe>"
      ],
      "text/plain": [
       "<plotly.tools.PlotlyDisplay object>"
      ]
     },
     "execution_count": 35,
     "metadata": {},
     "output_type": "execute_result"
    }
   ],
   "source": [
    "df = pd.read_sql_query('SELECT CreatedDate, '\n",
    "                               'strftime(\\'%H\\', CreatedDate) as `hour`,  '\n",
    "                               'count(*) as `Complaints per Hour`'\n",
    "                       'FROM data '\n",
    "                       'WHERE ComplaintType IN (\"Noise\", '\n",
    "                                               '\"Noise - Street/Sidewalk\", '\n",
    "                                               '\"Noise - Commercial\", '\n",
    "                                               '\"Noise - Vehicle\", '\n",
    "                                               '\"Noise - Park\", '\n",
    "                                               '\"Noise - House of Worship\", '\n",
    "                                               '\"Noise - Helicopter\", '\n",
    "                                               '\"Collection Truck Noise\") '\n",
    "                       'GROUP BY hour', disk_engine)\n",
    "\n",
    "display(df.head(n=2))\n",
    "\n",
    "py.iplot({\n",
    "    'data': [Bar(x=df['hour'], y=df['Complaints per Hour'])],\n",
    "    'layout': Layout(xaxis={'title': 'Hour in Day'},\n",
    "                     yaxis={'title': 'Number of Complaints'},\n",
    "                     title='Number of Noise Complaints in NYC by Hour in Day'\n",
    "                    )})"
   ]
  },
  {
   "cell_type": "code",
   "execution_count": 46,
   "metadata": {
    "collapsed": true
   },
   "outputs": [],
   "source": [
    "complaint_traces = {} # Each series in the graph will represent a complaint\n",
    "complaint_traces['Other'] = {}\n",
    "\n",
    "for hour in range(1, 24):\n",
    "    hour_str = '0'+str(hour) if hour < 10 else str(hour)\n",
    "    df = pd.read_sql_query('SELECT  CreatedDate, '\n",
    "                                   'ComplaintType ,'\n",
    "                                   'strftime(\\'%H\\', CreatedDate) as `hour`,  '\n",
    "                                   'COUNT(*) as num_complaints '\n",
    "                           'FROM data '\n",
    "                           'WHERE hour = \"{}\" '\n",
    "                           'GROUP BY ComplaintType '\n",
    "                           'ORDER BY -num_complaints'.format(hour_str), disk_engine)\n",
    "    \n",
    "    complaint_traces['Other'][hour] = sum(df.num_complaints)\n",
    "    \n",
    "    # Grab the 7 most common complaints for that hour\n",
    "    for i in range(7):\n",
    "        complaint = df.get_value(i, 'ComplaintType')\n",
    "        count = df.get_value(i, 'num_complaints')\n",
    "        complaint_traces['Other'][hour] -= count\n",
    "        if complaint in complaint_traces:\n",
    "            complaint_traces[complaint][hour] = count\n",
    "        else:\n",
    "            complaint_traces[complaint] = {hour: count}"
   ]
  },
  {
   "cell_type": "markdown",
   "metadata": {},
   "source": [
    "Below is the graphical representation of data showing 7 most common 311 complaints by hour in a day. We can observe highest number of complaints are for residential noise (highest during the late hours of the day) followed by street light condition (highest in the afternoon) and blocked driveway (distributed throughout the day). There is a substantial amount of complaints for 'other' category which is not sub-categorised in detail.\n",
    "In [45]:\n"
   ]
  },
  {
   "cell_type": "code",
   "execution_count": 45,
   "metadata": {
    "collapsed": false
   },
   "outputs": [
    {
     "data": {
      "text/html": [
       "<iframe id=\"igraph\" scrolling=\"no\" style=\"border:none;\" seamless=\"seamless\" src=\"https://plot.ly/~juhisrivastava/20.embed\" height=\"525px\" width=\"100%\"></iframe>"
      ],
      "text/plain": [
       "<plotly.tools.PlotlyDisplay object>"
      ]
     },
     "execution_count": 45,
     "metadata": {},
     "output_type": "execute_result"
    }
   ],
   "source": [
    "traces = []\n",
    "for complaint in complaint_traces:\n",
    "    traces.append({\n",
    "        'x': [1,2,3,4,5,6,7,8,9,10,11,12,13,14,15,16,17,18,19,20,21,22,23,24],\n",
    "        'y': [complaint_traces[complaint].get(i, None) for i in range(25)],\n",
    "        'name': complaint,\n",
    "        'type': 'bar'\n",
    "    })\n",
    "\n",
    "py.iplot({\n",
    "    'data': traces, \n",
    "    'layout': {\n",
    "        'barmode': 'stack',\n",
    "        'xaxis': {'title': 'Hour in Day'},\n",
    "        'yaxis': {'title': 'Number of Complaints'},\n",
    "        'title': 'The 7 Most Common 311 Complaints by Hour in a Day'\n",
    "    }})"
   ]
  },
  {
   "cell_type": "code",
   "execution_count": 39,
   "metadata": {
    "collapsed": false
   },
   "outputs": [
    {
     "data": {
      "text/html": [
       "<div>\n",
       "<table border=\"1\" class=\"dataframe\">\n",
       "  <thead>\n",
       "    <tr style=\"text-align: right;\">\n",
       "      <th></th>\n",
       "      <th>CreatedDate</th>\n",
       "      <th>interval</th>\n",
       "    </tr>\n",
       "  </thead>\n",
       "  <tbody>\n",
       "    <tr>\n",
       "      <th>0</th>\n",
       "      <td>2016-08-20 11:27:00.000000</td>\n",
       "      <td>2016-08-20 11:15:00</td>\n",
       "    </tr>\n",
       "    <tr>\n",
       "      <th>1</th>\n",
       "      <td>2013-07-20 06:12:00.000000</td>\n",
       "      <td>2013-07-20 06:00:00</td>\n",
       "    </tr>\n",
       "    <tr>\n",
       "      <th>2</th>\n",
       "      <td>2013-07-20 05:49:00.000000</td>\n",
       "      <td>2013-07-20 05:45:00</td>\n",
       "    </tr>\n",
       "    <tr>\n",
       "      <th>3</th>\n",
       "      <td>2013-07-20 05:49:00.000000</td>\n",
       "      <td>2013-07-20 05:45:00</td>\n",
       "    </tr>\n",
       "    <tr>\n",
       "      <th>4</th>\n",
       "      <td>2016-08-20 12:16:00.000000</td>\n",
       "      <td>2016-08-20 12:15:00</td>\n",
       "    </tr>\n",
       "  </tbody>\n",
       "</table>\n",
       "</div>"
      ],
      "text/plain": [
       "                  CreatedDate             interval\n",
       "0  2016-08-20 11:27:00.000000  2016-08-20 11:15:00\n",
       "1  2013-07-20 06:12:00.000000  2013-07-20 06:00:00\n",
       "2  2013-07-20 05:49:00.000000  2013-07-20 05:45:00\n",
       "3  2013-07-20 05:49:00.000000  2013-07-20 05:45:00\n",
       "4  2016-08-20 12:16:00.000000  2016-08-20 12:15:00"
      ]
     },
     "metadata": {},
     "output_type": "display_data"
    }
   ],
   "source": [
    "minutes = 15\n",
    "seconds = 15*60\n",
    "\n",
    "df = pd.read_sql_query('SELECT CreatedDate, '\n",
    "                               'datetime(('\n",
    "                                   'strftime(\\'%s\\', CreatedDate) / {seconds}) * {seconds}, \\'unixepoch\\') interval '\n",
    "                       'FROM data '\n",
    "                       'LIMIT 10 '.format(seconds=seconds), disk_engine)\n",
    "\n",
    "display(df.head())"
   ]
  },
  {
   "cell_type": "code",
   "execution_count": 40,
   "metadata": {
    "collapsed": false
   },
   "outputs": [
    {
     "data": {
      "text/html": [
       "<div>\n",
       "<table border=\"1\" class=\"dataframe\">\n",
       "  <thead>\n",
       "    <tr style=\"text-align: right;\">\n",
       "      <th></th>\n",
       "      <th>interval</th>\n",
       "      <th>Complaints / interval</th>\n",
       "    </tr>\n",
       "  </thead>\n",
       "  <tbody>\n",
       "    <tr>\n",
       "      <th>0</th>\n",
       "      <td>2010-01-01 00:00:00</td>\n",
       "      <td>1284</td>\n",
       "    </tr>\n",
       "    <tr>\n",
       "      <th>1</th>\n",
       "      <td>2010-01-01 00:15:00</td>\n",
       "      <td>15</td>\n",
       "    </tr>\n",
       "    <tr>\n",
       "      <th>2</th>\n",
       "      <td>2010-01-01 00:30:00</td>\n",
       "      <td>14</td>\n",
       "    </tr>\n",
       "    <tr>\n",
       "      <th>3</th>\n",
       "      <td>2010-01-01 00:45:00</td>\n",
       "      <td>25</td>\n",
       "    </tr>\n",
       "    <tr>\n",
       "      <th>4</th>\n",
       "      <td>2010-01-01 01:00:00</td>\n",
       "      <td>31</td>\n",
       "    </tr>\n",
       "  </tbody>\n",
       "</table>\n",
       "</div>"
      ],
      "text/plain": [
       "              interval  Complaints / interval\n",
       "0  2010-01-01 00:00:00                   1284\n",
       "1  2010-01-01 00:15:00                     15\n",
       "2  2010-01-01 00:30:00                     14\n",
       "3  2010-01-01 00:45:00                     25\n",
       "4  2010-01-01 01:00:00                     31"
      ]
     },
     "metadata": {},
     "output_type": "display_data"
    },
    {
     "data": {
      "text/html": [
       "<div>\n",
       "<table border=\"1\" class=\"dataframe\">\n",
       "  <thead>\n",
       "    <tr style=\"text-align: right;\">\n",
       "      <th></th>\n",
       "      <th>interval</th>\n",
       "      <th>Complaints / interval</th>\n",
       "    </tr>\n",
       "  </thead>\n",
       "  <tbody>\n",
       "    <tr>\n",
       "      <th>495</th>\n",
       "      <td>2010-01-06 04:15:00</td>\n",
       "      <td>2</td>\n",
       "    </tr>\n",
       "    <tr>\n",
       "      <th>496</th>\n",
       "      <td>2010-01-06 04:45:00</td>\n",
       "      <td>6</td>\n",
       "    </tr>\n",
       "    <tr>\n",
       "      <th>497</th>\n",
       "      <td>2010-01-06 05:00:00</td>\n",
       "      <td>5</td>\n",
       "    </tr>\n",
       "    <tr>\n",
       "      <th>498</th>\n",
       "      <td>2010-01-06 05:15:00</td>\n",
       "      <td>9</td>\n",
       "    </tr>\n",
       "    <tr>\n",
       "      <th>499</th>\n",
       "      <td>2010-01-06 05:30:00</td>\n",
       "      <td>9</td>\n",
       "    </tr>\n",
       "  </tbody>\n",
       "</table>\n",
       "</div>"
      ],
      "text/plain": [
       "                interval  Complaints / interval\n",
       "495  2010-01-06 04:15:00                      2\n",
       "496  2010-01-06 04:45:00                      6\n",
       "497  2010-01-06 05:00:00                      5\n",
       "498  2010-01-06 05:15:00                      9\n",
       "499  2010-01-06 05:30:00                      9"
      ]
     },
     "metadata": {},
     "output_type": "display_data"
    }
   ],
   "source": [
    "minutes = 15\n",
    "seconds = minutes*60\n",
    "\n",
    "df = pd.read_sql_query('SELECT datetime(('\n",
    "                                   'strftime(\\'%s\\', CreatedDate) / {seconds}) * {seconds}, \\'unixepoch\\') interval ,'\n",
    "                               'COUNT(*) as \"Complaints / interval\"'\n",
    "                       'FROM data '\n",
    "                       'GROUP BY interval '\n",
    "                       'ORDER BY interval '\n",
    "                       'LIMIT 500'.format(seconds=seconds), disk_engine)\n",
    "\n",
    "display(df.head())\n",
    "display(df.tail())"
   ]
  },
  {
   "cell_type": "markdown",
   "metadata": {},
   "source": [
    "Displaying number of complaints per 15 mins between 1st-6th Jan 2010 going highest on Jan 4 with more than 5000 complaints "
   ]
  },
  {
   "cell_type": "code",
   "execution_count": 41,
   "metadata": {
    "collapsed": false
   },
   "outputs": [
    {
     "data": {
      "text/html": [
       "<iframe id=\"igraph\" scrolling=\"no\" style=\"border:none;\" seamless=\"seamless\" src=\"https://plot.ly/~juhisrivastava/14.embed\" height=\"525px\" width=\"100%\"></iframe>"
      ],
      "text/plain": [
       "<plotly.tools.PlotlyDisplay object>"
      ]
     },
     "execution_count": 41,
     "metadata": {},
     "output_type": "execute_result"
    }
   ],
   "source": [
    "py.iplot(\n",
    "    {\n",
    "        'data': [{\n",
    "            'x': df.interval,\n",
    "            'y': df['Complaints / interval'],\n",
    "            'type': 'bar'\n",
    "        }],\n",
    "        'layout': {\n",
    "            'title': 'Number of 311 Complaints per 15 Minutes'\n",
    "        }\n",
    "})"
   ]
  },
  {
   "cell_type": "code",
   "execution_count": 42,
   "metadata": {
    "collapsed": true
   },
   "outputs": [],
   "source": [
    "hours = 24\n",
    "minutes = hours*60\n",
    "seconds = minutes*60\n",
    "\n",
    "df = pd.read_sql_query('SELECT datetime(('\n",
    "                                   'strftime(\\'%s\\', CreatedDate) / {seconds}) * {seconds}, \\'unixepoch\\') interval ,'\n",
    "                               'COUNT(*) as \"Complaints / interval\"'\n",
    "                       'FROM data '\n",
    "                       'GROUP BY interval '\n",
    "                       'ORDER BY interval'.format(seconds=seconds), disk_engine)"
   ]
  },
  {
   "cell_type": "markdown",
   "metadata": {},
   "source": [
    "Displaying number of compaints per day which seems to be increasing after 2012, going highest \n",
    "for 2016. "
   ]
  },
  {
   "cell_type": "code",
   "execution_count": 43,
   "metadata": {
    "collapsed": false
   },
   "outputs": [
    {
     "data": {
      "text/html": [
       "<iframe id=\"igraph\" scrolling=\"no\" style=\"border:none;\" seamless=\"seamless\" src=\"https://plot.ly/~juhisrivastava/16.embed\" height=\"525px\" width=\"100%\"></iframe>"
      ],
      "text/plain": [
       "<plotly.tools.PlotlyDisplay object>"
      ]
     },
     "execution_count": 43,
     "metadata": {},
     "output_type": "execute_result"
    }
   ],
   "source": [
    "\n",
    "py.iplot(\n",
    "    {\n",
    "        'data': [{\n",
    "            'x': df.interval,\n",
    "            'y': df['Complaints / interval'],\n",
    "            'type': 'bar'\n",
    "        }],\n",
    "        'layout': {\n",
    "            'title': 'Number of 311 Complaints per Day'\n",
    "        }\n",
    "})"
   ]
  }
 ],
 "metadata": {
  "anaconda-cloud": {
   "environment": null,
   "summary": "JuhiSrivastava_DS_DatabaseHW_14thNov",
   "url": "https://anaconda.org/juhi29/juhisrivastava_ds_databasehw_14thnov"
  },
  "kernelspec": {
   "display_name": "Python [default]",
   "language": "python",
   "name": "python3"
  },
  "language_info": {
   "codemirror_mode": {
    "name": "ipython",
    "version": 3
   },
   "file_extension": ".py",
   "mimetype": "text/x-python",
   "name": "python",
   "nbconvert_exporter": "python",
   "pygments_lexer": "ipython3",
   "version": "3.5.2"
  }
 },
 "nbformat": 4,
 "nbformat_minor": 1
}
